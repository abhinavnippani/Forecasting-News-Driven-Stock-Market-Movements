{
 "cells": [
  {
   "cell_type": "markdown",
   "metadata": {},
   "source": [
    "### Importing necessary libraries"
   ]
  },
  {
   "cell_type": "code",
   "execution_count": 1,
   "metadata": {},
   "outputs": [],
   "source": [
    "import re\n",
    "import numpy as np\n",
    "import pandas as pd\n",
    "from pprint import pprint\n",
    "\n",
    "# Gensim\n",
    "import gensim\n",
    "import gensim.corpora as corpora\n",
    "from gensim.utils import simple_preprocess\n",
    "from gensim.models import CoherenceModel\n",
    "\n",
    "# spacy for lemmatization\n",
    "import spacy\n",
    "\n",
    "# Plotting tools\n",
    "import pyLDAvis\n",
    "import pyLDAvis.gensim  # don't skip this\n",
    "import matplotlib.pyplot as plt\n",
    "%matplotlib inline\n",
    "\n",
    "# Enable logging for gensim - optional\n",
    "import logging\n",
    "logging.basicConfig(format='%(asctime)s : %(levelname)s : %(message)s', level=logging.ERROR)\n",
    "\n",
    "import warnings\n",
    "warnings.filterwarnings(\"ignore\",category=DeprecationWarning)"
   ]
  },
  {
   "cell_type": "code",
   "execution_count": 2,
   "metadata": {},
   "outputs": [
    {
     "name": "stdout",
     "output_type": "stream",
     "text": [
      "[nltk_data] Downloading package stopwords to\n",
      "[nltk_data]     C:\\Users\\prash\\AppData\\Roaming\\nltk_data...\n",
      "[nltk_data]   Package stopwords is already up-to-date!\n"
     ]
    },
    {
     "data": {
      "text/plain": [
       "True"
      ]
     },
     "execution_count": 2,
     "metadata": {},
     "output_type": "execute_result"
    }
   ],
   "source": [
    "import nltk; nltk.download('stopwords')"
   ]
  },
  {
   "cell_type": "markdown",
   "metadata": {},
   "source": [
    "### Defining the Stop Words "
   ]
  },
  {
   "cell_type": "code",
   "execution_count": 3,
   "metadata": {},
   "outputs": [],
   "source": [
    "# NLTK Stop words\n",
    "from nltk.corpus import stopwords\n",
    "stop_words = stopwords.words('english')\n",
    "stop_words.extend(['from', 'subject', 're', 'edu', 'use'])"
   ]
  },
  {
   "cell_type": "markdown",
   "metadata": {},
   "source": [
    "### Importing the News Dataset "
   ]
  },
  {
   "cell_type": "code",
   "execution_count": 4,
   "metadata": {},
   "outputs": [
    {
     "data": {
      "text/plain": [
       "(3090, 4)"
      ]
     },
     "execution_count": 4,
     "metadata": {},
     "output_type": "execute_result"
    }
   ],
   "source": [
    "df = pd.read_csv('news_dataset_jan.csv',index_col = 0)\n",
    "df.shape"
   ]
  },
  {
   "cell_type": "code",
   "execution_count": 5,
   "metadata": {},
   "outputs": [
    {
     "data": {
      "text/plain": [
       "(2874, 4)"
      ]
     },
     "execution_count": 5,
     "metadata": {},
     "output_type": "execute_result"
    }
   ],
   "source": [
    "df = pd.read_csv('news_dataset_feb.csv',index_col = 0)\n",
    "df.shape"
   ]
  },
  {
   "cell_type": "code",
   "execution_count": 6,
   "metadata": {},
   "outputs": [
    {
     "data": {
      "text/plain": [
       "(126, 4)"
      ]
     },
     "execution_count": 6,
     "metadata": {},
     "output_type": "execute_result"
    }
   ],
   "source": [
    "df = pd.read_csv('news_dataset.csv',index_col = 0)\n",
    "df.shape"
   ]
  },
  {
   "cell_type": "code",
   "execution_count": 7,
   "metadata": {},
   "outputs": [
    {
     "data": {
      "text/html": [
       "<div>\n",
       "<style scoped>\n",
       "    .dataframe tbody tr th:only-of-type {\n",
       "        vertical-align: middle;\n",
       "    }\n",
       "\n",
       "    .dataframe tbody tr th {\n",
       "        vertical-align: top;\n",
       "    }\n",
       "\n",
       "    .dataframe thead th {\n",
       "        text-align: right;\n",
       "    }\n",
       "</style>\n",
       "<table border=\"1\" class=\"dataframe\">\n",
       "  <thead>\n",
       "    <tr style=\"text-align: right;\">\n",
       "      <th></th>\n",
       "      <th>Date</th>\n",
       "      <th>Headline</th>\n",
       "      <th>Alternate Headline</th>\n",
       "      <th>Link</th>\n",
       "    </tr>\n",
       "  </thead>\n",
       "  <tbody>\n",
       "    <tr>\n",
       "      <th>0</th>\n",
       "      <td>2020-12-07</td>\n",
       "      <td>\\r\\n\\t\\t\\t\\t\\t \\t\\t\\t\\t\\t Smaller towns drivin...</td>\n",
       "      <td>Network-backed OTTs see fast growth alongside ...</td>\n",
       "      <td>https://www.business-standard.com/article/comp...</td>\n",
       "    </tr>\n",
       "    <tr>\n",
       "      <th>1</th>\n",
       "      <td>2020-12-07</td>\n",
       "      <td>\\r\\n\\t\\t\\t\\t\\t \\t\\t\\t\\t\\t Saraswat, Cosmos to ...</td>\n",
       "      <td>The two leading urban co-operative banks (UCBs...</td>\n",
       "      <td>https://www.business-standard.com/article/fina...</td>\n",
       "    </tr>\n",
       "    <tr>\n",
       "      <th>2</th>\n",
       "      <td>2020-12-07</td>\n",
       "      <td>\\r\\n\\t\\t\\t\\t\\t \\t\\t\\t\\t\\t Income mismatch prob...</td>\n",
       "      <td>The Central Board of Direct Taxes has directed...</td>\n",
       "      <td>https://www.business-standard.com/article/comp...</td>\n",
       "    </tr>\n",
       "    <tr>\n",
       "      <th>3</th>\n",
       "      <td>2020-12-07</td>\n",
       "      <td>\\r\\n\\t\\t\\t\\t\\t \\t\\t\\t\\t\\t Rahul Bhatia-owned I...</td>\n",
       "      <td>Thaw likely in IndiGo feud after EGM on Januar...</td>\n",
       "      <td>https://www.business-standard.com/article/comp...</td>\n",
       "    </tr>\n",
       "    <tr>\n",
       "      <th>4</th>\n",
       "      <td>2020-12-07</td>\n",
       "      <td>\\r\\n\\t\\t\\t\\t\\t \\t\\t\\t\\t\\t Shriram Capital's co...</td>\n",
       "      <td>Its total income grew to Rs 5,407 crore in 201...</td>\n",
       "      <td>https://www.business-standard.com/article/comp...</td>\n",
       "    </tr>\n",
       "  </tbody>\n",
       "</table>\n",
       "</div>"
      ],
      "text/plain": [
       "         Date                                           Headline  \\\n",
       "0  2020-12-07  \\r\\n\\t\\t\\t\\t\\t \\t\\t\\t\\t\\t Smaller towns drivin...   \n",
       "1  2020-12-07  \\r\\n\\t\\t\\t\\t\\t \\t\\t\\t\\t\\t Saraswat, Cosmos to ...   \n",
       "2  2020-12-07  \\r\\n\\t\\t\\t\\t\\t \\t\\t\\t\\t\\t Income mismatch prob...   \n",
       "3  2020-12-07  \\r\\n\\t\\t\\t\\t\\t \\t\\t\\t\\t\\t Rahul Bhatia-owned I...   \n",
       "4  2020-12-07  \\r\\n\\t\\t\\t\\t\\t \\t\\t\\t\\t\\t Shriram Capital's co...   \n",
       "\n",
       "                                  Alternate Headline  \\\n",
       "0  Network-backed OTTs see fast growth alongside ...   \n",
       "1  The two leading urban co-operative banks (UCBs...   \n",
       "2  The Central Board of Direct Taxes has directed...   \n",
       "3  Thaw likely in IndiGo feud after EGM on Januar...   \n",
       "4  Its total income grew to Rs 5,407 crore in 201...   \n",
       "\n",
       "                                                Link  \n",
       "0  https://www.business-standard.com/article/comp...  \n",
       "1  https://www.business-standard.com/article/fina...  \n",
       "2  https://www.business-standard.com/article/comp...  \n",
       "3  https://www.business-standard.com/article/comp...  \n",
       "4  https://www.business-standard.com/article/comp...  "
      ]
     },
     "execution_count": 7,
     "metadata": {},
     "output_type": "execute_result"
    }
   ],
   "source": [
    "df.head()"
   ]
  },
  {
   "cell_type": "code",
   "execution_count": 8,
   "metadata": {},
   "outputs": [],
   "source": [
    "# Convert to list\n",
    "data = df.Headline.values.tolist()"
   ]
  },
  {
   "cell_type": "markdown",
   "metadata": {},
   "source": [
    "### Remove Emails, new line characters and single quotes "
   ]
  },
  {
   "cell_type": "code",
   "execution_count": 9,
   "metadata": {},
   "outputs": [
    {
     "name": "stdout",
     "output_type": "stream",
     "text": [
      "[' Smaller towns driving demand for regional content, OTT viewership growth ']\n"
     ]
    }
   ],
   "source": [
    "# Remove Emails\n",
    "data = [re.sub('\\S*@\\S*\\s?', '', sent) for sent in data]\n",
    "\n",
    "# Remove new line characters\n",
    "data = [re.sub('\\s+', ' ', sent) for sent in data]\n",
    "\n",
    "# Remove distracting single quotes\n",
    "data = [re.sub(\"\\'\", \"\", sent) for sent in data]\n",
    "\n",
    "pprint(data[:1])"
   ]
  },
  {
   "cell_type": "markdown",
   "metadata": {},
   "source": [
    "### Convert List of Sentences to List of List of Words "
   ]
  },
  {
   "cell_type": "code",
   "execution_count": 10,
   "metadata": {},
   "outputs": [
    {
     "name": "stdout",
     "output_type": "stream",
     "text": [
      "[['smaller', 'towns', 'driving', 'demand', 'for', 'regional', 'content', 'ott', 'viewership', 'growth']]\n"
     ]
    }
   ],
   "source": [
    "def sent_to_words(sentences):\n",
    "    for sentence in sentences:\n",
    "        yield(gensim.utils.simple_preprocess(str(sentence), deacc=True))  # deacc=True removes punctuations\n",
    "\n",
    "data_words = list(sent_to_words(data))\n",
    "\n",
    "print(data_words[:1])"
   ]
  },
  {
   "cell_type": "code",
   "execution_count": 11,
   "metadata": {},
   "outputs": [
    {
     "name": "stdout",
     "output_type": "stream",
     "text": [
      "['smaller', 'towns', 'driving', 'demand', 'for', 'regional', 'content', 'ott', 'viewership', 'growth']\n"
     ]
    }
   ],
   "source": [
    "# Build the bigram and trigram models\n",
    "bigram = gensim.models.Phrases(data_words, min_count=5, threshold=100) # higher threshold fewer phrases.\n",
    "trigram = gensim.models.Phrases(bigram[data_words], threshold=100)  \n",
    "\n",
    "# Faster way to get a sentence clubbed as a trigram/bigram\n",
    "bigram_mod = gensim.models.phrases.Phraser(bigram)\n",
    "trigram_mod = gensim.models.phrases.Phraser(trigram)\n",
    "\n",
    "# See trigram example\n",
    "print(trigram_mod[bigram_mod[data_words[0]]])"
   ]
  },
  {
   "cell_type": "code",
   "execution_count": 12,
   "metadata": {},
   "outputs": [],
   "source": [
    "# Define functions for stopwords, bigrams, trigrams and lemmatization\n",
    "def remove_stopwords(texts):\n",
    "    return [[word for word in simple_preprocess(str(doc)) if word not in stop_words] for doc in texts]\n",
    "\n",
    "def make_bigrams(texts):\n",
    "    return [bigram_mod[doc] for doc in texts]\n",
    "\n",
    "def make_trigrams(texts):\n",
    "    return [trigram_mod[bigram_mod[doc]] for doc in texts]\n",
    "\n",
    "def lemmatization(texts, allowed_postags=['NOUN', 'ADJ', 'VERB', 'ADV']):\n",
    "    \"\"\"https://spacy.io/api/annotation\"\"\"\n",
    "    texts_out = []\n",
    "    for sent in texts:\n",
    "        doc = nlp(\" \".join(sent)) \n",
    "        texts_out.append([token.lemma_ for token in doc if token.pos_ in allowed_postags])\n",
    "    return texts_out"
   ]
  },
  {
   "cell_type": "code",
   "execution_count": 13,
   "metadata": {},
   "outputs": [
    {
     "name": "stdout",
     "output_type": "stream",
     "text": [
      "[['small', 'town', 'drive', 'demand', 'regional', 'content', 'growth']]\n"
     ]
    }
   ],
   "source": [
    "# Remove Stop Words\n",
    "data_words_nostops = remove_stopwords(data_words)\n",
    "\n",
    "# Form Bigrams\n",
    "data_words_bigrams = make_bigrams(data_words_nostops)\n",
    "\n",
    "# Initialize spacy 'en' model, keeping only tagger component (for efficiency)\n",
    "# python3 -m spacy download en\n",
    "nlp = spacy.load('en_core_web_sm', disable=['parser', 'ner'])\n",
    "\n",
    "# Do lemmatization keeping only noun, adj, vb, adv\n",
    "data_lemmatized = lemmatization(data_words_bigrams, allowed_postags=['NOUN', 'ADJ', 'VERB', 'ADV'])\n",
    "\n",
    "print(data_lemmatized[:1])"
   ]
  },
  {
   "cell_type": "code",
   "execution_count": 14,
   "metadata": {},
   "outputs": [
    {
     "name": "stdout",
     "output_type": "stream",
     "text": [
      "[[(0, 1), (1, 1), (2, 1), (3, 1), (4, 1), (5, 1), (6, 1)]]\n"
     ]
    }
   ],
   "source": [
    "# Create Dictionary\n",
    "id2word = corpora.Dictionary(data_lemmatized)\n",
    "\n",
    "# Create Corpus\n",
    "texts = data_lemmatized\n",
    "\n",
    "# Term Document Frequency\n",
    "corpus = [id2word.doc2bow(text) for text in texts]\n",
    "\n",
    "# View\n",
    "print(corpus[:1])"
   ]
  },
  {
   "cell_type": "code",
   "execution_count": 15,
   "metadata": {},
   "outputs": [
    {
     "data": {
      "text/plain": [
       "'content'"
      ]
     },
     "execution_count": 15,
     "metadata": {},
     "output_type": "execute_result"
    }
   ],
   "source": [
    "id2word[0]"
   ]
  },
  {
   "cell_type": "code",
   "execution_count": 28,
   "metadata": {},
   "outputs": [
    {
     "data": {
      "text/plain": [
       "<gensim.corpora.dictionary.Dictionary at 0x16bcab35828>"
      ]
     },
     "execution_count": 28,
     "metadata": {},
     "output_type": "execute_result"
    }
   ],
   "source": [
    "id2word"
   ]
  },
  {
   "cell_type": "code",
   "execution_count": 29,
   "metadata": {},
   "outputs": [
    {
     "data": {
      "text/plain": [
       "[['small', 'town', 'drive', 'demand', 'regional', 'content', 'growth'],\n",
       " ['approval', 'universal', 'banking', 'licence'],\n",
       " ['income', 'mismatch', 'probe', 'company'],\n",
       " ['own', 'may', 'back', 'rakesh', 'gangwal', 'exit', 'norm', 'relaxation'],\n",
       " ['consolidate', 'profit', 'tax', 'double', 'year'],\n",
       " ['small', 'unit', 'big', 'revisit', 'strategy', 'boost', 'revenue'],\n",
       " ['success', 'gain', 'currency', 'insolvency', 'resolution', 'professional'],\n",
       " ['have', 'strong', 'youtube', 'biz', 'eye'],\n",
       " ['pizza', 'ad', 'campaign'],\n",
       " ['see', 'sale', 'recover', 'fy', 'expect', 'growth'],\n",
       " ['set', 'sight', 'eye', 'mn', 'customer'],\n",
       " ['tell', 'story'],\n",
       " ['firm',\n",
       "  'work',\n",
       "  'vigorously',\n",
       "  'invest',\n",
       "  'heavily',\n",
       "  'scale',\n",
       "  'product',\n",
       "  'business'],\n",
       " ['voda', 'idea', 'debt', 'follow', 'downgrade'],\n",
       " ['set', 'double', 'flight'],\n",
       " ['plan', 'increase', 'production'],\n",
       " ['banking', 'sector', 'stress', 'can', 'bail', 'say', 'abhijit', 'banerjee'],\n",
       " ['bad', 'loan', 'issue', 'expert', 'see', 'pain'],\n",
       " [],\n",
       " ['politician', 'must', 'follow', 'freedom', 'fighter', 'footstep'],\n",
       " ['gift', 'abroad', 'face', 'centre'],\n",
       " ['strange', 'move'],\n",
       " ['promise'],\n",
       " ['locust', 'attack', 'link', 'climate', 'change'],\n",
       " ['improved', 'opinion', 'poll'],\n",
       " ['macro', 'policy'],\n",
       " ['launch', 'campaign', 'gather', 'detail', 'unemploye', 'youth'],\n",
       " ['next', 'big', 'development', 'challenge'],\n",
       " [],\n",
       " ['need'],\n",
       " ['slowdown', 'may', 'offer', 'buy', 'opportunity'],\n",
       " ['arrest', 'provision', 'need', 'urgent', 'review'],\n",
       " ['takeover', 'homebuyer', 'find', 'relief'],\n",
       " ['regulate',\n",
       "  'artificial',\n",
       "  'intelligence',\n",
       "  'size',\n",
       "  'will',\n",
       "  'fit',\n",
       "  'say',\n",
       "  'expert'],\n",
       " ['office', 'sale', 'repossess', 'car', 'key', 'court', 'order'],\n",
       " ['street', 'sign', 'trader', 'eye', 'budget', 'damani', 'effect', 'stock'],\n",
       " ['pick'],\n",
       " ['stock', 'company', 'top', 'perform', 'defensive', 'sector'],\n",
       " ['slow', 'economic', 'growth', 'capital', 'show', 'improvement'],\n",
       " ['privatisation', 'big', 'way', 'unleash', 'animal', 'spirit', 'manish'],\n",
       " ['weak', 'demand', 'slow', 'economy', 'cast', 'shadow', 'private', 'bank'],\n",
       " ['far', 'boost', 'sentiment'],\n",
       " ['answer', 'strategist', 'quiz'],\n",
       " ['quiz'],\n",
       " ['suggest',\n",
       "  'break',\n",
       "  'encryption',\n",
       "  'curb',\n",
       "  'child',\n",
       "  'pornograhy',\n",
       "  'distribution'],\n",
       " ['challenge', 'boost', 'growth', 'rein', 'fiscal', 'deficit'],\n",
       " ['issue', 'peaceful', 'dialogue'],\n",
       " ['shah', 'remark', 'shaheen', 'protester'],\n",
       " ['entirely', 'internal', 'say', 'move', 'vote', 'caa', 'resolution'],\n",
       " ['chief', 'detain', 'ahead', 'anti', 'caa', 'event'],\n",
       " ['infect', 'mea'],\n",
       " ['discrimination', 'follow', 'disadvantaged'],\n",
       " ['look', 'big', 'company', 'brace', 'limit'],\n",
       " ['could', 'rule', 'seek', 'mitigation', 'extradition', 'hearing'],\n",
       " ['movement', 'india', 'old', 'battle', 'adivasis', 'continue'],\n",
       " [],\n",
       " ['reluctant', 'take', 'advantage', 'caa', 'turmoil'],\n",
       " ['parade', 'shift', 'weaponry'],\n",
       " ['psu', 'insurance', 'firm', 'seek', 'merger', 'put', 'fast', 'track'],\n",
       " ['may', 'consider', 'tax', 'sop', 'easy', 'norm', 'boost', 'investment'],\n",
       " ['market', 'catch', 'indice', 'slip', 'red', 'gold', 'rise'],\n",
       " ['process', 'finally', 'take', 'sweetened', 'deal', 'term'],\n",
       " ['new', 'launch', 'regulatory', 'go', 'ahead', 'key', 'trigger'],\n",
       " ['beat', 'expectation', 'conservative', 'provisioning', 'offer', 'comfort'],\n",
       " ['firm', 'dot', 'discuss', 'part', 'upfront', 'payment', 'march'],\n",
       " ['focus', 'risk', 'management', 'healthy', 'corporate', 'book', 'say'],\n",
       " ['may', 'hit', 'air', 'pocket', 'lean', 'season', 'threat'],\n",
       " ['asset', 'group', 'sale', 'tweet', 'lalit', 'modi'],\n",
       " ['withdraw',\n",
       "  'draft',\n",
       "  'resolution',\n",
       "  'plan',\n",
       "  'management',\n",
       "  'dhfl',\n",
       "  'stock',\n",
       "  'exchange'],\n",
       " ['arrest', 'case'],\n",
       " ['transparency',\n",
       "  'support',\n",
       "  'new',\n",
       "  'idea',\n",
       "  'help',\n",
       "  'attract',\n",
       "  'young',\n",
       "  'viewer'],\n",
       " ['take', 'cue', 'beat', 'flipkart'],\n",
       " ['extend', 'appoint', 'member', 'firm'],\n",
       " ['line', 'high', 'market', 'share'],\n",
       " ['torrent', 'result', 'rise', 'crore', 'revenue', 'decline'],\n",
       " ['eye', 'co', 'living', 'space', 'talk', 'mial', 'lease', 'acre', 'land'],\n",
       " ['list', 'bond', 'ifsc', 'increase', 'foreign', 'borrowing'],\n",
       " ['make', 'small', 'arm'],\n",
       " ['lead', 'upi', 'digital', 'payment', 'pay', 'favour', 'wallet'],\n",
       " ['dismiss', 'plea'],\n",
       " ['post', 'net', 'loss', 'due', 'heavy', 'impairment', 'charge'],\n",
       " ['brazilian', 'call', 'investment', 'indian', 'company'],\n",
       " ['wheat', 'output', 'likely', 'hit', 'record', 'high', 'year'],\n",
       " ['peg', 'rise', 'onion', 'output'],\n",
       " ['unsold',\n",
       "  'luxury',\n",
       "  'home',\n",
       "  'grow',\n",
       "  'stock',\n",
       "  'still',\n",
       "  'fraction',\n",
       "  'affordable',\n",
       "  'anarock'],\n",
       " ['palm', 'oil', 'import', 'malaysia', 'likely', 'hit', 'year'],\n",
       " ['pre', 'tax', 'profit', 'rise', 'quarter'],\n",
       " ['payment', 'help', 'spot', 'app', 'may', 'trigger', 'fraud', 'transaction'],\n",
       " ['radical', 'reset', 'indian', 'economy'],\n",
       " [],\n",
       " ['job', 'few', 'wage', 'earner', 'organise', 'unorganised', 'sector'],\n",
       " [],\n",
       " ['calibrate', 'policy', 'mix'],\n",
       " ['reduce', 'devolution'],\n",
       " ['trend'],\n",
       " ['thank', 'day', 'holiday', 'week'],\n",
       " ['poor', 'locust', 'come', 'handy', 'rajasthan'],\n",
       " ['head', 'achche', 'din', 'poor', 'show'],\n",
       " ['transfer', 'case', 'concern'],\n",
       " ['expert', 'panel', 'propose', 'strict', 'related', 'party', 'regulation'],\n",
       " ['start', 'search', 'next', 'chief', 'end'],\n",
       " ['subscribe', 'day', 'close', 'firm', 'plan', 'raise'],\n",
       " ['dedicated', 'fund', 'see', 'outflow', 'show', 'epfr', 'datum'],\n",
       " ['sebi',\n",
       "  'firm',\n",
       "  'risk',\n",
       "  'management',\n",
       "  'guideline',\n",
       "  'commodity',\n",
       "  'future',\n",
       "  'trade'],\n",
       " ['tighten', 'norm', 'shadow', 'bank', 'share', 'loan', 'share', 'jump'],\n",
       " ['hit', 'commercial', 'paper', 'trade', 'volume', 'slip', 'r'],\n",
       " ['slap', 'rs', 'fine', 'entity', 'fraudulent', 'trading'],\n",
       " ['open'],\n",
       " ['brent', 'index'],\n",
       " ['budget', 'wishlist', 'key', 'challenge', 'automobile', 'sector'],\n",
       " ['budget', 'time', 'tax', 'say', 'abhijit', 'banerjee'],\n",
       " ['power', 'distribution', 'firm', 'likely', 'budget', 'say', 'singh'],\n",
       " ['budget',\n",
       "  'may',\n",
       "  'provide',\n",
       "  'short',\n",
       "  'term',\n",
       "  'stimulant',\n",
       "  'boost',\n",
       "  'consumer',\n",
       "  'demand',\n",
       "  'report'],\n",
       " ['destroy', 'good', 'say', 'expert'],\n",
       " ['airtel', 'prepaid', 'insurance', 'plan', 'good', 'standalone', 'policy'],\n",
       " ['ask', 'trader', 'go', 'selling', 'consume', 'local', 'good'],\n",
       " ['ranking'],\n",
       " ['find', 'financial', 'link', 'organisation', 'deny'],\n",
       " ['land', 'phase', 'acquire', 'villager', 'clash', 'official'],\n",
       " ['invest', 'infrastructure', 'expansion'],\n",
       " ['sign', 'insurgent', 'group', 'resolve', 'bodo', 'issue'],\n",
       " ['say', 'bring', 'military', 'plane'],\n",
       " ['blame', 'say'],\n",
       " ['become', 'young', 'year', 'grammys'],\n",
       " ['become', 'fourth', 'state'],\n",
       " ['kill', 'helicopter', 'crash']]"
      ]
     },
     "execution_count": 29,
     "metadata": {},
     "output_type": "execute_result"
    }
   ],
   "source": [
    "data_lemmatized"
   ]
  },
  {
   "cell_type": "code",
   "execution_count": 16,
   "metadata": {},
   "outputs": [
    {
     "data": {
      "text/plain": [
       "[[('content', 1),\n",
       "  ('demand', 1),\n",
       "  ('drive', 1),\n",
       "  ('growth', 1),\n",
       "  ('regional', 1),\n",
       "  ('small', 1),\n",
       "  ('town', 1)]]"
      ]
     },
     "execution_count": 16,
     "metadata": {},
     "output_type": "execute_result"
    }
   ],
   "source": [
    "# Human readable format of corpus (term-frequency)\n",
    "[[(id2word[id], freq) for id, freq in cp] for cp in corpus[:1]]"
   ]
  },
  {
   "cell_type": "markdown",
   "metadata": {},
   "source": [
    "# LDA - GENSIM"
   ]
  },
  {
   "cell_type": "code",
   "execution_count": 17,
   "metadata": {},
   "outputs": [],
   "source": [
    "# Build LDA model\n",
    "lda_model = gensim.models.ldamodel.LdaModel(corpus=corpus,\n",
    "                                           id2word=id2word,\n",
    "                                           num_topics=5, \n",
    "                                           random_state=100,\n",
    "                                           update_every=1,\n",
    "                                           chunksize=100,\n",
    "                                           passes=10,\n",
    "                                           alpha='auto',\n",
    "                                           per_word_topics=True)"
   ]
  },
  {
   "cell_type": "code",
   "execution_count": 18,
   "metadata": {},
   "outputs": [
    {
     "name": "stdout",
     "output_type": "stream",
     "text": [
      "[(0,\n",
      "  '0.023*\"good\" + 0.016*\"issue\" + 0.016*\"see\" + 0.016*\"policy\" + 0.014*\"show\" '\n",
      "  '+ 0.014*\"group\" + 0.014*\"expert\" + 0.014*\"loan\" + 0.014*\"shadow\" + '\n",
      "  '0.014*\"bank\"'),\n",
      " (1,\n",
      "  '0.035*\"share\" + 0.025*\"hit\" + 0.022*\"likely\" + 0.020*\"slip\" + 0.017*\"r\" + '\n",
      "  '0.017*\"paper\" + 0.017*\"commercial\" + 0.017*\"volume\" + 0.017*\"trade\" + '\n",
      "  '0.007*\"market\"'),\n",
      " (2,\n",
      "  '0.049*\"budget\" + 0.044*\"firm\" + 0.021*\"boost\" + 0.017*\"may\" + '\n",
      "  '0.017*\"challenge\" + 0.015*\"year\" + 0.015*\"young\" + 0.015*\"invest\" + '\n",
      "  '0.015*\"term\" + 0.015*\"sector\"'),\n",
      " (3,\n",
      "  '0.036*\"plan\" + 0.019*\"go\" + 0.019*\"chief\" + 0.019*\"day\" + 0.017*\"good\" + '\n",
      "  '0.016*\"local\" + 0.016*\"consume\" + 0.016*\"ask\" + 0.016*\"selling\" + '\n",
      "  '0.016*\"start\"'),\n",
      " (4,\n",
      "  '0.071*\"say\" + 0.018*\"management\" + 0.015*\"land\" + 0.015*\"risk\" + '\n",
      "  '0.015*\"link\" + 0.015*\"abhijit\" + 0.015*\"banerjee\" + 0.015*\"distribution\" + '\n",
      "  '0.014*\"tax\" + 0.013*\"villager\"')]\n"
     ]
    }
   ],
   "source": [
    "# Print the Keyword in the 10 topics\n",
    "pprint(lda_model.print_topics())\n",
    "doc_lda = lda_model[corpus]"
   ]
  },
  {
   "cell_type": "code",
   "execution_count": 19,
   "metadata": {},
   "outputs": [
    {
     "name": "stdout",
     "output_type": "stream",
     "text": [
      "\n",
      "Perplexity:  -7.1717557176636655\n",
      "\n",
      "Coherence Score:  0.49477645646377927\n"
     ]
    }
   ],
   "source": [
    "# Compute Perplexity\n",
    "print('\\nPerplexity: ', lda_model.log_perplexity(corpus))  # a measure of how good the model is. lower the better.\n",
    "\n",
    "# Compute Coherence Score\n",
    "coherence_model_lda = CoherenceModel(model=lda_model, texts=data_lemmatized, dictionary=id2word, coherence='c_v')\n",
    "coherence_lda = coherence_model_lda.get_coherence()\n",
    "print('\\nCoherence Score: ', coherence_lda)"
   ]
  },
  {
   "cell_type": "code",
   "execution_count": 20,
   "metadata": {
    "scrolled": true
   },
   "outputs": [
    {
     "name": "stderr",
     "output_type": "stream",
     "text": [
      "C:\\Users\\prash\\Anaconda3\\lib\\site-packages\\pyLDAvis\\_prepare.py:257: FutureWarning: Sorting because non-concatenation axis is not aligned. A future version\n",
      "of pandas will change to not sort by default.\n",
      "\n",
      "To accept the future behavior, pass 'sort=False'.\n",
      "\n",
      "To retain the current behavior and silence the warning, pass 'sort=True'.\n",
      "\n",
      "  return pd.concat([default_term_info] + list(topic_dfs))\n"
     ]
    },
    {
     "data": {
      "text/html": [
       "\n",
       "<link rel=\"stylesheet\" type=\"text/css\" href=\"https://cdn.rawgit.com/bmabey/pyLDAvis/files/ldavis.v1.0.0.css\">\n",
       "\n",
       "\n",
       "<div id=\"ldavis_el2038828296237662569272521183\"></div>\n",
       "<script type=\"text/javascript\">\n",
       "\n",
       "var ldavis_el2038828296237662569272521183_data = {\"mdsDat\": {\"x\": [0.03980087700389887, 0.11181835630125014, 0.025659620513165532, -0.005006599131881293, -0.17227225468643328], \"y\": [-0.1479810252002257, 0.11380786412468771, 0.003721201648995573, -0.010076728687795744, 0.04052868811433824], \"topics\": [1, 2, 3, 4, 5], \"cluster\": [1, 1, 1, 1, 1], \"Freq\": [24.58575439453125, 20.58293342590332, 19.72426414489746, 17.84995460510254, 17.257091522216797]}, \"tinfo\": {\"Category\": [\"Default\", \"Default\", \"Default\", \"Default\", \"Default\", \"Default\", \"Default\", \"Default\", \"Default\", \"Default\", \"Default\", \"Default\", \"Default\", \"Default\", \"Default\", \"Default\", \"Default\", \"Default\", \"Default\", \"Default\", \"Default\", \"Default\", \"Default\", \"Default\", \"Default\", \"Default\", \"Default\", \"Default\", \"Default\", \"Default\", \"Topic1\", \"Topic1\", \"Topic1\", \"Topic1\", \"Topic1\", \"Topic1\", \"Topic1\", \"Topic1\", \"Topic1\", \"Topic1\", \"Topic1\", \"Topic1\", \"Topic1\", \"Topic1\", \"Topic1\", \"Topic1\", \"Topic1\", \"Topic1\", \"Topic1\", \"Topic1\", \"Topic1\", \"Topic1\", \"Topic1\", \"Topic1\", \"Topic1\", \"Topic1\", \"Topic1\", \"Topic1\", \"Topic1\", \"Topic1\", \"Topic1\", \"Topic1\", \"Topic1\", \"Topic1\", \"Topic1\", \"Topic2\", \"Topic2\", \"Topic2\", \"Topic2\", \"Topic2\", \"Topic2\", \"Topic2\", \"Topic2\", \"Topic2\", \"Topic2\", \"Topic2\", \"Topic2\", \"Topic2\", \"Topic2\", \"Topic2\", \"Topic2\", \"Topic2\", \"Topic2\", \"Topic2\", \"Topic2\", \"Topic2\", \"Topic2\", \"Topic2\", \"Topic2\", \"Topic2\", \"Topic2\", \"Topic2\", \"Topic2\", \"Topic2\", \"Topic2\", \"Topic2\", \"Topic2\", \"Topic2\", \"Topic2\", \"Topic2\", \"Topic3\", \"Topic3\", \"Topic3\", \"Topic3\", \"Topic3\", \"Topic3\", \"Topic3\", \"Topic3\", \"Topic3\", \"Topic3\", \"Topic3\", \"Topic3\", \"Topic3\", \"Topic3\", \"Topic3\", \"Topic3\", \"Topic3\", \"Topic3\", \"Topic3\", \"Topic3\", \"Topic3\", \"Topic3\", \"Topic3\", \"Topic3\", \"Topic3\", \"Topic3\", \"Topic3\", \"Topic3\", \"Topic3\", \"Topic3\", \"Topic3\", \"Topic3\", \"Topic3\", \"Topic3\", \"Topic3\", \"Topic3\", \"Topic3\", \"Topic3\", \"Topic3\", \"Topic3\", \"Topic3\", \"Topic3\", \"Topic3\", \"Topic3\", \"Topic3\", \"Topic3\", \"Topic3\", \"Topic3\", \"Topic3\", \"Topic3\", \"Topic3\", \"Topic3\", \"Topic4\", \"Topic4\", \"Topic4\", \"Topic4\", \"Topic4\", \"Topic4\", \"Topic4\", \"Topic4\", \"Topic4\", \"Topic4\", \"Topic4\", \"Topic4\", \"Topic4\", \"Topic4\", \"Topic4\", \"Topic4\", \"Topic4\", \"Topic4\", \"Topic4\", \"Topic4\", \"Topic4\", \"Topic4\", \"Topic4\", \"Topic4\", \"Topic4\", \"Topic4\", \"Topic4\", \"Topic4\", \"Topic4\", \"Topic4\", \"Topic4\", \"Topic4\", \"Topic4\", \"Topic4\", \"Topic4\", \"Topic4\", \"Topic4\", \"Topic4\", \"Topic4\", \"Topic4\", \"Topic4\", \"Topic4\", \"Topic4\", \"Topic5\", \"Topic5\", \"Topic5\", \"Topic5\", \"Topic5\", \"Topic5\", \"Topic5\", \"Topic5\", \"Topic5\", \"Topic5\", \"Topic5\", \"Topic5\", \"Topic5\", \"Topic5\", \"Topic5\", \"Topic5\", \"Topic5\", \"Topic5\", \"Topic5\", \"Topic5\", \"Topic5\", \"Topic5\", \"Topic5\", \"Topic5\", \"Topic5\", \"Topic5\", \"Topic5\", \"Topic5\", \"Topic5\", \"Topic5\", \"Topic5\", \"Topic5\", \"Topic5\"], \"Freq\": [9.0, 8.0, 7.0, 4.0, 4.0, 3.0, 4.0, 3.0, 3.0, 2.0, 2.0, 2.0, 2.0, 4.0, 2.0, 2.0, 2.0, 2.0, 2.0, 2.0, 2.0, 2.0, 2.0, 2.0, 2.0, 2.0, 2.0, 2.0, 2.0, 2.0, 7.572014808654785, 6.721700668334961, 3.1820545196533203, 2.545030117034912, 2.2278683185577393, 2.227867364883423, 2.2278664112091064, 1.9090945720672607, 1.9090932607650757, 1.9090932607650757, 1.9090793132781982, 1.908948302268982, 1.908948302268982, 1.908948302268982, 1.908948302268982, 1.908948302268982, 1.908489465713501, 1.908489465713501, 1.856396198272705, 1.856396198272705, 2.089413642883301, 2.2265355587005615, 1.8982088565826416, 2.2279443740844727, 2.5469906330108643, 0.7617623805999756, 0.7617621421813965, 1.9091699123382568, 0.44299060106277466, 0.44299060106277466, 1.168447732925415, 0.7513745427131653, 0.7617829442024231, 0.9140269160270691, 0.8166940808296204, 9.149155616760254, 2.2597455978393555, 1.977135419845581, 1.9768292903900146, 1.9766309261322021, 1.9766266345977783, 1.9766266345977783, 1.9675184488296509, 1.6942392587661743, 1.6942392587661743, 1.6942392587661743, 1.6942392587661743, 1.6942392587661743, 1.6942379474639893, 1.6942379474639893, 1.6942379474639893, 1.694234013557434, 1.6937189102172852, 1.6937189102172852, 1.6937189102172852, 1.6937189102172852, 1.693379282951355, 1.6929702758789062, 1.6929702758789062, 1.6929702758789062, 1.842009425163269, 0.6758022904396057, 0.3931359350681305, 0.3931359052658081, 0.3931359052658081, 0.3931359052658081, 0.3931359052658081, 1.6937223672866821, 0.6760284304618835, 0.6760352253913879, 4.352799892425537, 3.12682843208313, 2.744223117828369, 2.4311304092407227, 2.083275556564331, 2.083275556564331, 2.083275556564331, 2.083275556564331, 0.8312676548957825, 0.8312676548957825, 0.8312675952911377, 0.8312668800354004, 0.8312653303146362, 0.48341578245162964, 0.48341578245162964, 0.48341578245162964, 0.48341578245162964, 0.48341578245162964, 0.48341578245162964, 0.48341572284698486, 0.4834158420562744, 0.4834153950214386, 0.4834153950214386, 0.4834153950214386, 0.4834153354167938, 0.4834153950214386, 0.4834153950214386, 0.4834153354167938, 0.4834153354167938, 0.4834153950214386, 2.0832712650299072, 0.4834153354167938, 0.4834153354167938, 0.4834153354167938, 0.4834153354167938, 0.48341527581214905, 0.48341527581214905, 0.48341527581214905, 0.48341527581214905, 0.4834153354167938, 0.4834153950214386, 0.48341527581214905, 0.4834153950214386, 0.48341527581214905, 0.48341527581214905, 0.48341527581214905, 0.4834153354167938, 0.4834153354167938, 0.8312454223632812, 0.48341527581214905, 0.8311853408813477, 0.48341503739356995, 3.987647294998169, 2.0615298748016357, 2.061429977416992, 2.061131000518799, 1.7664124965667725, 1.7664124965667725, 1.7664124965667725, 1.7664124965667725, 1.7661052942276, 1.7661052942276, 1.7661052942276, 1.7658904790878296, 1.7658904790878296, 1.7658904790878296, 1.7441704273223877, 0.7048925757408142, 0.7048861980438232, 0.7048676013946533, 0.7048668265342712, 1.420643925666809, 0.40992215275764465, 0.40992215275764465, 0.40992215275764465, 0.40992215275764465, 0.40992215275764465, 0.40992215275764465, 0.40992212295532227, 0.40992212295532227, 0.40992212295532227, 0.40992212295532227, 0.40992215275764465, 0.4099220931529999, 0.40992212295532227, 0.40992212295532227, 0.40992212295532227, 1.8829116821289062, 0.40992212295532227, 0.40992212295532227, 0.6535436511039734, 0.40992212295532227, 0.6472023129463196, 0.4129174053668976, 0.4099222421646118, 1.761605143547058, 1.7614383697509766, 1.7609809637069702, 1.5418447256088257, 1.5409895181655884, 1.5409880876541138, 1.5409866571426392, 1.537925362586975, 1.3212321996688843, 1.3212321996688843, 1.3212321996688843, 1.3212321996688843, 1.3212321996688843, 1.3212319612503052, 1.3212318420410156, 1.3212318420410156, 1.3212318420410156, 1.3212319612503052, 1.3212319612503052, 1.3212319612503052, 1.3212319612503052, 1.3212319612503052, 1.3212300539016724, 1.3212300539016724, 1.3212300539016724, 1.3212300539016724, 1.3212300539016724, 1.3212281465530396, 1.3212281465530396, 1.3212206363677979, 2.468653678894043, 1.5418766736984253, 1.5412096977233887], \"Term\": [\"say\", \"budget\", \"firm\", \"share\", \"plan\", \"hit\", \"good\", \"likely\", \"boost\", \"slip\", \"go\", \"chief\", \"day\", \"trade\", \"management\", \"volume\", \"r\", \"commercial\", \"paper\", \"issue\", \"see\", \"policy\", \"selling\", \"ask\", \"consume\", \"local\", \"end\", \"search\", \"start\", \"close\", \"budget\", \"firm\", \"boost\", \"challenge\", \"young\", \"invest\", \"term\", \"grammys\", \"expansion\", \"infrastructure\", \"open\", \"short\", \"report\", \"provide\", \"consumer\", \"stimulant\", \"automobile\", \"wishlist\", \"power\", \"singh\", \"find\", \"sector\", \"demand\", \"year\", \"may\", \"investment\", \"offer\", \"become\", \"viewer\", \"vigorously\", \"key\", \"stock\", \"big\", \"tax\", \"next\", \"say\", \"management\", \"land\", \"risk\", \"link\", \"abhijit\", \"banerjee\", \"distribution\", \"official\", \"clash\", \"villager\", \"phase\", \"acquire\", \"bring\", \"military\", \"plane\", \"blame\", \"guideline\", \"commodity\", \"future\", \"sebi\", \"time\", \"organisation\", \"financial\", \"deny\", \"tax\", \"resolution\", \"mial\", \"space\", \"talk\", \"co\", \"lease\", \"trade\", \"eye\", \"rise\", \"share\", \"hit\", \"likely\", \"slip\", \"r\", \"paper\", \"commercial\", \"volume\", \"market\", \"high\", \"poor\", \"campaign\", \"follow\", \"affordable\", \"still\", \"luxury\", \"home\", \"anarock\", \"fraction\", \"grow\", \"unsold\", \"red\", \"palm\", \"record\", \"air\", \"indice\", \"earner\", \"catch\", \"unleash\", \"threat\", \"trade\", \"oil\", \"spirit\", \"import\", \"season\", \"lean\", \"wage\", \"unorganised\", \"job\", \"animal\", \"malaysia\", \"gold\", \"manish\", \"few\", \"organise\", \"wheat\", \"way\", \"privatisation\", \"big\", \"pocket\", \"year\", \"ifsc\", \"plan\", \"go\", \"chief\", \"day\", \"selling\", \"local\", \"consume\", \"ask\", \"search\", \"start\", \"end\", \"subscribe\", \"raise\", \"close\", \"trader\", \"ahead\", \"need\", \"arrest\", \"case\", \"next\", \"upi\", \"favour\", \"regulation\", \"content\", \"drive\", \"town\", \"party\", \"digital\", \"pay\", \"regulatory\", \"rakesh\", \"wallet\", \"strict\", \"lead\", \"panel\", \"good\", \"propose\", \"related\", \"growth\", \"regional\", \"company\", \"norm\", \"launch\", \"issue\", \"see\", \"policy\", \"group\", \"loan\", \"shadow\", \"bank\", \"sign\", \"dedicated\", \"outflow\", \"fund\", \"epfr\", \"datum\", \"fraudulent\", \"resolve\", \"insurgent\", \"bodo\", \"trading\", \"slap\", \"entity\", \"rs\", \"fine\", \"fourth\", \"kill\", \"state\", \"helicopter\", \"crash\", \"index\", \"brent\", \"ranking\", \"good\", \"show\", \"expert\"], \"Total\": [9.0, 8.0, 7.0, 4.0, 4.0, 3.0, 4.0, 3.0, 3.0, 2.0, 2.0, 2.0, 2.0, 4.0, 2.0, 2.0, 2.0, 2.0, 2.0, 2.0, 2.0, 2.0, 2.0, 2.0, 2.0, 2.0, 2.0, 2.0, 2.0, 2.0, 8.028121948242188, 7.197543621063232, 3.6309945583343506, 2.99355411529541, 2.674715757369995, 2.6747148036956787, 2.674715757369995, 2.3559422492980957, 2.3559412956237793, 2.3559412956237793, 2.355929374694824, 2.355898380279541, 2.355898380279541, 2.355898380279541, 2.355898380279541, 2.355898380279541, 2.355754852294922, 2.355754852294922, 2.350270986557007, 2.350270986557007, 2.6590042114257812, 3.305227041244507, 2.8680975437164307, 3.3703815937042236, 3.919118642807007, 1.208609938621521, 1.208609700202942, 3.591200351715088, 0.8898379802703857, 0.8898379802703857, 2.643252372741699, 1.8384648561477661, 1.904280424118042, 3.092609405517578, 2.569204568862915, 9.623228073120117, 2.7208893299102783, 2.437967538833618, 2.4380037784576416, 2.438025951385498, 2.4380273818969727, 2.4380273818969727, 2.439272880554199, 2.15507173538208, 2.15507173538208, 2.15507173538208, 2.15507173538208, 2.15507173538208, 2.1550705432891846, 2.1550705432891846, 2.1550705432891846, 2.1550674438476562, 2.1551334857940674, 2.1551334857940674, 2.1551334857940674, 2.1551334857940674, 2.1551733016967773, 2.155224323272705, 2.155224323272705, 2.155224323272705, 3.092609405517578, 1.3574562072753906, 0.8539681434631348, 0.8539681434631348, 0.8539681434631348, 0.8539681434631348, 0.8539681434631348, 4.102812767028809, 1.6600916385650635, 1.7796231508255005, 4.804774761199951, 3.5623395442962646, 3.2104709148406982, 2.8666412830352783, 2.518786668777466, 2.518786668777466, 2.518786668777466, 2.518786668777466, 1.266778826713562, 1.266778826713562, 1.266778826713562, 1.2667782306671143, 1.5496388673782349, 0.9189267158508301, 0.9189267158508301, 0.9189267158508301, 0.9189267158508301, 0.9189267158508301, 0.9189267158508301, 0.9189267158508301, 0.9189268350601196, 0.9189263582229614, 0.9189264178276062, 0.9189264178276062, 0.9189263582229614, 0.9189264178276062, 0.9189264178276062, 0.9189263582229614, 0.9189263582229614, 0.9189264178276062, 4.102812767028809, 0.9189263582229614, 0.9189263582229614, 0.9189263582229614, 0.9189263582229614, 0.9189262986183167, 0.9189262986183167, 0.9189262986183167, 0.9189262986183167, 0.9189263582229614, 0.9189264178276062, 0.9189262986183167, 0.9189264178276062, 0.9189262986183167, 0.9189262986183167, 0.9189262986183167, 0.9189263582229614, 0.9189263582229614, 1.904280424118042, 0.9189263582229614, 3.3703815937042236, 0.9189261198043823, 4.459568023681641, 2.517660140991211, 2.5176665782928467, 2.517688035964966, 2.222700834274292, 2.222700834274292, 2.222700834274292, 2.222700834274292, 2.2227232456207275, 2.2227232456207275, 2.2227232456207275, 2.2227370738983154, 2.2227370738983154, 2.2227370738983154, 2.5430853366851807, 1.1610177755355835, 1.1610126495361328, 1.1610147953033447, 1.161014199256897, 2.569204568862915, 0.866047203540802, 0.866047203540802, 0.866047203540802, 0.866047203540802, 0.866047203540802, 0.866047203540802, 0.8660472631454468, 0.866047203540802, 0.866047203540802, 0.866047203540802, 0.8660473823547363, 0.866047203540802, 0.866047203540802, 0.866047203540802, 0.866047203540802, 4.722774982452393, 0.866047203540802, 0.866047203540802, 1.7162702083587646, 0.866047203540802, 1.8322213888168335, 2.4215803146362305, 1.2138670682907104, 2.247934103012085, 2.2479021549224854, 2.248331308364868, 2.0269551277160645, 2.0274405479431152, 2.0274412631988525, 2.0274415016174316, 2.028672218322754, 1.8063427209854126, 1.8063427209854126, 1.8063427209854126, 1.8063427209854126, 1.8063427209854126, 1.806342601776123, 1.8063424825668335, 1.8063424825668335, 1.8063424825668335, 1.806342601776123, 1.806342601776123, 1.806342601776123, 1.806342601776123, 1.806342601776123, 1.8063411712646484, 1.8063411712646484, 1.8063411712646484, 1.8063411712646484, 1.8063411712646484, 1.8063396215438843, 1.8063396215438843, 1.8063338994979858, 4.722774982452393, 2.374756097793579, 2.6407227516174316], \"loglift\": [30.0, 29.0, 28.0, 27.0, 26.0, 25.0, 24.0, 23.0, 22.0, 21.0, 20.0, 19.0, 18.0, 17.0, 16.0, 15.0, 14.0, 13.0, 12.0, 11.0, 10.0, 9.0, 8.0, 7.0, 6.0, 5.0, 4.0, 3.0, 2.0, 1.0, 1.344499945640564, 1.3345999717712402, 1.2710000276565552, 1.2407000064849854, 1.2201999425888062, 1.2201999425888062, 1.2201999425888062, 1.1927000284194946, 1.1927000284194946, 1.1927000284194946, 1.1927000284194946, 1.1926000118255615, 1.1926000118255615, 1.1926000118255615, 1.1926000118255615, 1.1926000118255615, 1.1924999952316284, 1.1924999952316284, 1.167099952697754, 1.167099952697754, 1.1619000434875488, 1.0078999996185303, 0.9902999997138977, 0.9890999794006348, 0.972000002861023, 0.9413999915122986, 0.9413999915122986, 0.7712000012397766, 0.7055000066757202, 0.7055000066757202, 0.5867000222206116, 0.5081999897956848, 0.4867999851703644, 0.18410000205039978, 0.25690001249313354, 1.5302000045776367, 1.3949999809265137, 1.3711999654769897, 1.371000051498413, 1.37090003490448, 1.37090003490448, 1.37090003490448, 1.3658000230789185, 1.3401000499725342, 1.3401000499725342, 1.3401000499725342, 1.3401000499725342, 1.3401000499725342, 1.3401000499725342, 1.3401000499725342, 1.3401000499725342, 1.3401000499725342, 1.3398000001907349, 1.3398000001907349, 1.3398000001907349, 1.3398000001907349, 1.3395999670028687, 1.3393000364303589, 1.3393000364303589, 1.3393000364303589, 1.0625, 0.8831999897956848, 0.8050000071525574, 0.8050000071525574, 0.8050000071525574, 0.8050000071525574, 0.8050000071525574, 0.6959999799728394, 0.6822999715805054, 0.6128000020980835, 1.5245000123977661, 1.492900013923645, 1.4664000272750854, 1.4585000276565552, 1.433500051498413, 1.433500051498413, 1.433500051498413, 1.433500051498413, 1.2020000219345093, 1.2020000219345093, 1.2020000219345093, 1.2020000219345093, 1.000499963760376, 0.9810000061988831, 0.9810000061988831, 0.9810000061988831, 0.9810000061988831, 0.9810000061988831, 0.9810000061988831, 0.9810000061988831, 0.9810000061988831, 0.9810000061988831, 0.9810000061988831, 0.9810000061988831, 0.9810000061988831, 0.9810000061988831, 0.9810000061988831, 0.9810000061988831, 0.9810000061988831, 0.9810000061988831, 0.9455999732017517, 0.9810000061988831, 0.9810000061988831, 0.9810000061988831, 0.9810000061988831, 0.9810000061988831, 0.9810000061988831, 0.9810000061988831, 0.9810000061988831, 0.9810000061988831, 0.9810000061988831, 0.9810000061988831, 0.9810000061988831, 0.9810000061988831, 0.9810000061988831, 0.9810000061988831, 0.9810000061988831, 0.9810000061988831, 0.7943999767303467, 0.9810000061988831, 0.22339999675750732, 0.9810000061988831, 1.611299991607666, 1.523300051689148, 1.5232000350952148, 1.5231000185012817, 1.493399977684021, 1.493399977684021, 1.493399977684021, 1.493399977684021, 1.4931999444961548, 1.4931999444961548, 1.4931999444961548, 1.4931000471115112, 1.4931000471115112, 1.4931000471115112, 1.3460999727249146, 1.2242000102996826, 1.2242000102996826, 1.2240999937057495, 1.2240999937057495, 1.1306999921798706, 0.9751999974250793, 0.9751999974250793, 0.9751999974250793, 0.9751999974250793, 0.9751999974250793, 0.9751999974250793, 0.9751999974250793, 0.9751999974250793, 0.9751999974250793, 0.9751999974250793, 0.9751999974250793, 0.9751999974250793, 0.9751999974250793, 0.9751999974250793, 0.9751999974250793, 0.803600013256073, 0.9751999974250793, 0.9751999974250793, 0.7577000260353088, 0.9751999974250793, 0.6825000047683716, -0.04580000042915344, 0.6376000046730042, 1.513200044631958, 1.513100028038025, 1.5125999450683594, 1.4833999872207642, 1.4825999736785889, 1.4825999736785889, 1.4825999736785889, 1.4800000190734863, 1.444200038909912, 1.444200038909912, 1.444200038909912, 1.444200038909912, 1.444200038909912, 1.444200038909912, 1.444200038909912, 1.444200038909912, 1.444200038909912, 1.444200038909912, 1.444200038909912, 1.444200038909912, 1.444200038909912, 1.444200038909912, 1.444200038909912, 1.444200038909912, 1.444200038909912, 1.444200038909912, 1.444200038909912, 1.444200038909912, 1.444200038909912, 1.444200038909912, 1.108199954032898, 1.3250999450683594, 1.218500018119812], \"logprob\": [30.0, 29.0, 28.0, 27.0, 26.0, 25.0, 24.0, 23.0, 22.0, 21.0, 20.0, 19.0, 18.0, 17.0, 16.0, 15.0, 14.0, 13.0, 12.0, 11.0, 10.0, 9.0, 8.0, 7.0, 6.0, 5.0, 4.0, 3.0, 2.0, 1.0, -3.0071001052856445, -3.126199960708618, -3.874000072479248, -4.097400188446045, -4.230500221252441, -4.230500221252441, -4.230500221252441, -4.384900093078613, -4.384900093078613, -4.384900093078613, -4.384900093078613, -4.385000228881836, -4.385000228881836, -4.385000228881836, -4.385000228881836, -4.385000228881836, -4.385200023651123, -4.385200023651123, -4.412899971008301, -4.412899971008301, -4.2947001457214355, -4.231100082397461, -4.390600204467773, -4.230500221252441, -4.09660005569458, -5.303699970245361, -5.303699970245361, -4.384900093078613, -5.845799922943115, -5.845799922943115, -4.875899791717529, -5.317399978637695, -5.303599834442139, -5.121399879455566, -5.234000205993652, -2.640199899673462, -4.038599967956543, -4.1722002029418945, -4.172299861907959, -4.172399997711182, -4.172399997711182, -4.172399997711182, -4.17710018157959, -4.326600074768066, -4.326600074768066, -4.326600074768066, -4.326600074768066, -4.326600074768066, -4.326600074768066, -4.326600074768066, -4.326600074768066, -4.326600074768066, -4.326900005340576, -4.326900005340576, -4.326900005340576, -4.326900005340576, -4.327099800109863, -4.327400207519531, -4.327400207519531, -4.327400207519531, -4.243000030517578, -5.245699882507324, -5.787399768829346, -5.787399768829346, -5.787399768829346, -5.787399768829346, -5.787399768829346, -4.326900005340576, -5.2453999519348145, -5.245299816131592, -3.340399980545044, -3.6712000370025635, -3.8017001152038574, -3.9228999614715576, -4.077300071716309, -4.077300071716309, -4.077300071716309, -4.077300071716309, -4.995999813079834, -4.995999813079834, -4.995999813079834, -4.995999813079834, -4.995999813079834, -5.538099765777588, -5.538099765777588, -5.538099765777588, -5.538099765777588, -5.538099765777588, -5.538099765777588, -5.538099765777588, -5.538099765777588, -5.538099765777588, -5.538099765777588, -5.538099765777588, -5.538099765777588, -5.538099765777588, -5.538099765777588, -5.538099765777588, -5.538099765777588, -5.538099765777588, -4.077300071716309, -5.538099765777588, -5.538099765777588, -5.538099765777588, -5.538099765777588, -5.538099765777588, -5.538099765777588, -5.538099765777588, -5.538099765777588, -5.538099765777588, -5.538099765777588, -5.538099765777588, -5.538099765777588, -5.538099765777588, -5.538099765777588, -5.538099765777588, -5.538099765777588, -5.538099765777588, -4.996099948883057, -5.538099765777588, -4.996099948883057, -5.538099765777588, -3.328200101852417, -3.9879000186920166, -3.98799991607666, -3.988100051879883, -4.142399787902832, -4.142399787902832, -4.142399787902832, -4.142399787902832, -4.142600059509277, -4.142600059509277, -4.142600059509277, -4.1427001953125, -4.1427001953125, -4.1427001953125, -4.155099868774414, -5.061100006103516, -5.061100006103516, -5.061100006103516, -5.061100006103516, -4.360300064086914, -5.6031999588012695, -5.6031999588012695, -5.6031999588012695, -5.6031999588012695, -5.6031999588012695, -5.6031999588012695, -5.6031999588012695, -5.6031999588012695, -5.6031999588012695, -5.6031999588012695, -5.6031999588012695, -5.6031999588012695, -5.6031999588012695, -5.6031999588012695, -5.6031999588012695, -4.07859992980957, -5.6031999588012695, -5.6031999588012695, -5.13670015335083, -5.6031999588012695, -5.146500110626221, -5.595900058746338, -5.6031999588012695, -4.111400127410889, -4.111499786376953, -4.111700057983398, -4.24459981918335, -4.245200157165527, -4.245200157165527, -4.245200157165527, -4.247200012207031, -4.39900016784668, -4.39900016784668, -4.39900016784668, -4.39900016784668, -4.39900016784668, -4.39900016784668, -4.39900016784668, -4.39900016784668, -4.39900016784668, -4.39900016784668, -4.39900016784668, -4.39900016784668, -4.39900016784668, -4.39900016784668, -4.39900016784668, -4.39900016784668, -4.39900016784668, -4.39900016784668, -4.39900016784668, -4.39900016784668, -4.39900016784668, -4.39900016784668, -3.773900032043457, -4.24459981918335, -4.244999885559082]}, \"token.table\": {\"Topic\": [2, 2, 4, 4, 4, 1, 2, 5, 1, 5, 1, 3, 2, 5, 1, 5, 2, 1, 3, 4, 1, 4, 2, 4, 3, 2, 1, 4, 4, 1, 5, 5, 4, 5, 1, 2, 2, 4, 5, 5, 1, 5, 2, 2, 1, 5, 1, 3, 5, 5, 5, 2, 4, 4, 5, 1, 5, 4, 2, 5, 3, 3, 5, 1, 5, 1, 1, 5, 1, 5, 5, 2, 3, 2, 5, 4, 2, 3, 1, 2, 4, 1, 4, 5, 1, 2, 1, 2, 5, 3, 2, 4, 2, 5, 3, 1, 1, 3, 4, 5, 1, 2, 5, 2, 2, 5, 2, 4, 2, 1, 5, 4, 5, 3, 1, 5, 5, 1, 5, 3, 4, 5, 1, 1, 4, 1, 2, 1, 2, 2, 3, 4, 5, 2, 3, 1, 1, 3, 1], \"Freq\": [0.820335328578949, 0.9280433654785156, 0.8613132834434509, 0.8613154888153076, 0.8998062014579773, 0.8489847779273987, 0.820335328578949, 0.9864649772644043, 0.5569168329238892, 0.2784584164619446, 0.5251327157020569, 0.5251327157020569, 0.9280452132225037, 0.5536049008369446, 0.826219916343689, 0.5536057353019714, 0.9280438423156738, 0.9964970946311951, 0.7894041538238525, 0.861315906047821, 1.0021532773971558, 0.7943863868713379, 0.9280433654785156, 0.8997915387153625, 0.7940331101417542, 0.9280167818069458, 0.5457855463027954, 0.5457855463027954, 0.8998062014579773, 0.8489330410957336, 0.5536052584648132, 0.553604781627655, 0.7943795919418335, 0.553604781627655, 0.6973263621330261, 0.9279776215553284, 0.8199164867401123, 0.8997971415519714, 0.5536048412322998, 0.553604781627655, 0.8489176034927368, 0.7573683857917786, 0.602376401424408, 0.9279776215553284, 0.7521612644195557, 0.5536048412322998, 0.9725540280342102, 0.6453116536140442, 0.5536052584648132, 0.5536048412322998, 0.553604781627655, 0.9280167818069458, 0.7943884134292603, 0.4234798550605774, 0.4234798550605774, 0.8489172458648682, 0.9867016673088074, 0.5826588273048401, 0.9280167818069458, 0.5536052584648132, 0.7894037961959839, 0.842143177986145, 0.5536057353019714, 0.8489176034927368, 0.5536049008369446, 0.7477432489395142, 0.827396810054779, 0.8897057771682739, 0.3783217966556549, 0.3783217966556549, 0.5536052584648132, 0.8203554749488831, 0.9344423413276672, 0.8203358054161072, 0.9864653944969177, 0.8998062014579773, 0.7350537776947021, 0.7894037961959839, 0.765478253364563, 0.9280438423156738, 0.8613170385360718, 0.3892255127429962, 0.3892255127429962, 0.4129534661769867, 0.8273969888687134, 0.9280433654785156, 0.8489218950271606, 0.9279776215553284, 0.553604781627655, 0.7940331101417542, 0.9280433654785156, 0.8969478607177734, 0.9280438423156738, 0.8895485997200012, 0.7894037961959839, 0.850965678691864, 0.8489330410957336, 0.7940331101417542, 0.8997915387153625, 0.5536075234413147, 0.8489330410957336, 0.736672043800354, 0.5536049008369446, 0.561916708946228, 0.8203432559967041, 0.5536048412322998, 0.9352371096611023, 0.8997971415519714, 0.9280167818069458, 0.6051021814346313, 0.8897184133529663, 0.8998062014579773, 0.9864650964736938, 0.8325052261352539, 0.8489330410957336, 0.842191755771637, 0.9858664870262146, 0.850965678691864, 0.5536048412322998, 0.6976805925369263, 0.8997971415519714, 0.5536052584648132, 0.8489330410957336, 0.5439320802688599, 0.8997915387153625, 0.32335153222084045, 0.6467030644416809, 0.7477430105209351, 0.9279996156692505, 0.48747044801712036, 0.48747044801712036, 0.7864462733268738, 0.5536048412322998, 0.9280433654785156, 0.7940331101417542, 0.8489847779273987, 0.5934045910835266, 0.2967022955417633, 0.7477430105209351], \"Term\": [\"abhijit\", \"acquire\", \"ahead\", \"arrest\", \"ask\", \"automobile\", \"banerjee\", \"bank\", \"become\", \"become\", \"big\", \"big\", \"blame\", \"bodo\", \"boost\", \"brent\", \"bring\", \"budget\", \"campaign\", \"case\", \"challenge\", \"chief\", \"clash\", \"close\", \"commercial\", \"commodity\", \"company\", \"company\", \"consume\", \"consumer\", \"crash\", \"datum\", \"day\", \"dedicated\", \"demand\", \"deny\", \"distribution\", \"end\", \"entity\", \"epfr\", \"expansion\", \"expert\", \"eye\", \"financial\", \"find\", \"fine\", \"firm\", \"follow\", \"fourth\", \"fraudulent\", \"fund\", \"future\", \"go\", \"good\", \"good\", \"grammys\", \"group\", \"growth\", \"guideline\", \"helicopter\", \"high\", \"hit\", \"index\", \"infrastructure\", \"insurgent\", \"invest\", \"investment\", \"issue\", \"key\", \"key\", \"kill\", \"land\", \"likely\", \"link\", \"loan\", \"local\", \"management\", \"market\", \"may\", \"military\", \"need\", \"next\", \"next\", \"norm\", \"offer\", \"official\", \"open\", \"organisation\", \"outflow\", \"paper\", \"phase\", \"plan\", \"plane\", \"policy\", \"poor\", \"power\", \"provide\", \"r\", \"raise\", \"ranking\", \"report\", \"resolution\", \"resolve\", \"rise\", \"risk\", \"rs\", \"say\", \"search\", \"sebi\", \"sector\", \"see\", \"selling\", \"shadow\", \"share\", \"short\", \"show\", \"sign\", \"singh\", \"slap\", \"slip\", \"start\", \"state\", \"stimulant\", \"stock\", \"subscribe\", \"tax\", \"tax\", \"term\", \"time\", \"trade\", \"trade\", \"trader\", \"trading\", \"villager\", \"volume\", \"wishlist\", \"year\", \"year\", \"young\"]}, \"R\": 30, \"lambda.step\": 0.01, \"plot.opts\": {\"xlab\": \"PC1\", \"ylab\": \"PC2\"}, \"topic.order\": [3, 5, 2, 4, 1]};\n",
       "\n",
       "function LDAvis_load_lib(url, callback){\n",
       "  var s = document.createElement('script');\n",
       "  s.src = url;\n",
       "  s.async = true;\n",
       "  s.onreadystatechange = s.onload = callback;\n",
       "  s.onerror = function(){console.warn(\"failed to load library \" + url);};\n",
       "  document.getElementsByTagName(\"head\")[0].appendChild(s);\n",
       "}\n",
       "\n",
       "if(typeof(LDAvis) !== \"undefined\"){\n",
       "   // already loaded: just create the visualization\n",
       "   !function(LDAvis){\n",
       "       new LDAvis(\"#\" + \"ldavis_el2038828296237662569272521183\", ldavis_el2038828296237662569272521183_data);\n",
       "   }(LDAvis);\n",
       "}else if(typeof define === \"function\" && define.amd){\n",
       "   // require.js is available: use it to load d3/LDAvis\n",
       "   require.config({paths: {d3: \"https://cdnjs.cloudflare.com/ajax/libs/d3/3.5.5/d3.min\"}});\n",
       "   require([\"d3\"], function(d3){\n",
       "      window.d3 = d3;\n",
       "      LDAvis_load_lib(\"https://cdn.rawgit.com/bmabey/pyLDAvis/files/ldavis.v1.0.0.js\", function(){\n",
       "        new LDAvis(\"#\" + \"ldavis_el2038828296237662569272521183\", ldavis_el2038828296237662569272521183_data);\n",
       "      });\n",
       "    });\n",
       "}else{\n",
       "    // require.js not available: dynamically load d3 & LDAvis\n",
       "    LDAvis_load_lib(\"https://cdnjs.cloudflare.com/ajax/libs/d3/3.5.5/d3.min.js\", function(){\n",
       "         LDAvis_load_lib(\"https://cdn.rawgit.com/bmabey/pyLDAvis/files/ldavis.v1.0.0.js\", function(){\n",
       "                 new LDAvis(\"#\" + \"ldavis_el2038828296237662569272521183\", ldavis_el2038828296237662569272521183_data);\n",
       "            })\n",
       "         });\n",
       "}\n",
       "</script>"
      ],
      "text/plain": [
       "PreparedData(topic_coordinates=              x         y  topics  cluster       Freq\n",
       "topic                                                \n",
       "2      0.039801 -0.147981       1        1  24.585754\n",
       "4      0.111818  0.113808       2        1  20.582933\n",
       "1      0.025660  0.003721       3        1  19.724264\n",
       "3     -0.005007 -0.010077       4        1  17.849955\n",
       "0     -0.172272  0.040529       5        1  17.257092, topic_info=    Category      Freq     Term     Total  loglift  logprob\n",
       "80   Default  9.000000      say  9.000000  30.0000  30.0000\n",
       "143  Default  8.000000   budget  8.000000  29.0000  29.0000\n",
       "60   Default  7.000000     firm  7.000000  28.0000  28.0000\n",
       "299  Default  4.000000    share  4.000000  27.0000  27.0000\n",
       "74   Default  4.000000     plan  4.000000  26.0000  26.0000\n",
       "..       ...       ...      ...       ...      ...      ...\n",
       "422   Topic5  1.321228    brent  1.806340   1.4442  -4.3990\n",
       "443   Topic5  1.321221  ranking  1.806334   1.4442  -4.3990\n",
       "435   Topic5  2.468654     good  4.722775   1.1082  -3.7739\n",
       "157   Topic5  1.541877     show  2.374756   1.3251  -4.2446\n",
       "84    Topic5  1.541210   expert  2.640723   1.2185  -4.2450\n",
       "\n",
       "[228 rows x 6 columns], token_table=      Topic      Freq      Term\n",
       "term                           \n",
       "76        2  0.820335   abhijit\n",
       "447       2  0.928043   acquire\n",
       "196       4  0.861313     ahead\n",
       "123       4  0.861315    arrest\n",
       "439       4  0.899806       ask\n",
       "...     ...       ...       ...\n",
       "414       3  0.794033    volume\n",
       "425       1  0.848985  wishlist\n",
       "27        1  0.593405      year\n",
       "27        3  0.296702      year\n",
       "291       1  0.747743     young\n",
       "\n",
       "[139 rows x 3 columns], R=30, lambda_step=0.01, plot_opts={'xlab': 'PC1', 'ylab': 'PC2'}, topic_order=[3, 5, 2, 4, 1])"
      ]
     },
     "execution_count": 20,
     "metadata": {},
     "output_type": "execute_result"
    }
   ],
   "source": [
    "# Visualize the topics\n",
    "pyLDAvis.enable_notebook()\n",
    "vis = pyLDAvis.gensim.prepare(lda_model, corpus, id2word)\n",
    "vis"
   ]
  },
  {
   "cell_type": "markdown",
   "metadata": {},
   "source": [
    "# LDA  -  MALLET (generally gives better topics)"
   ]
  },
  {
   "cell_type": "code",
   "execution_count": 17,
   "metadata": {},
   "outputs": [],
   "source": [
    "from gensim.models.wrappers import LdaMallet\n",
    "import os"
   ]
  },
  {
   "cell_type": "markdown",
   "metadata": {},
   "source": [
    "### Defining the path of mallet and setting the environment variable of mallet"
   ]
  },
  {
   "cell_type": "code",
   "execution_count": 18,
   "metadata": {},
   "outputs": [],
   "source": [
    "mallet_path = 'C:\\\\Users\\\\prash\\\\Downloads\\\\mallet-2.0.8\\\\bin\\\\mallet'\n",
    "\n",
    "os.environ['MALLET_HOME'] = 'C:\\\\Users\\\\prash\\\\Downloads\\\\mallet-2.0.8\\\\'\n",
    "\n"
   ]
  },
  {
   "cell_type": "markdown",
   "metadata": {},
   "source": [
    "### Creating the model"
   ]
  },
  {
   "cell_type": "code",
   "execution_count": 19,
   "metadata": {},
   "outputs": [],
   "source": [
    "ldamallet = LdaMallet(mallet_path, corpus=corpus, num_topics=15, id2word=id2word)"
   ]
  },
  {
   "cell_type": "markdown",
   "metadata": {},
   "source": [
    "### Show the created topics"
   ]
  },
  {
   "cell_type": "code",
   "execution_count": 27,
   "metadata": {},
   "outputs": [
    {
     "name": "stdout",
     "output_type": "stream",
     "text": [
      "[('year', 0.029411764705882353),\n",
      " ('big', 0.029411764705882353),\n",
      " ('challenge', 0.022058823529411766),\n",
      " ('show', 0.022058823529411766),\n",
      " ('day', 0.014705882352941176)]\n"
     ]
    }
   ],
   "source": [
    "result=(ldamallet.show_topics(num_topics=15,num_words=20,formatted=False))\n",
    "pprint(result[0][1])"
   ]
  },
  {
   "cell_type": "markdown",
   "metadata": {},
   "source": [
    "### Compute the Coherence Score"
   ]
  },
  {
   "cell_type": "code",
   "execution_count": null,
   "metadata": {},
   "outputs": [],
   "source": [
    "coherence_model_ldamallet = CoherenceModel(model=ldamallet, texts=data_lemmatized, dictionary=id2word, coherence='c_v')\n",
    "\n",
    "coherence_ldamallet = coherence_model_ldamallet.get_coherence()\n",
    "\n",
    "print('\\nCoherence Score: ', coherence_ldamallet)"
   ]
  },
  {
   "cell_type": "markdown",
   "metadata": {},
   "source": [
    "### Define a function to compute Coherence Values"
   ]
  },
  {
   "cell_type": "code",
   "execution_count": 25,
   "metadata": {},
   "outputs": [],
   "source": [
    "def compute_coherence_values(dictionary, corpus, texts, limit, start=2, step=3):\n",
    "    \"\"\"\n",
    "    Compute c_v coherence for various number of topics\n",
    "\n",
    "    Parameters:\n",
    "    ----------\n",
    "    dictionary : Gensim dictionary\n",
    "    corpus : Gensim corpus\n",
    "    texts : List of input texts\n",
    "    limit : Max num of topics\n",
    "\n",
    "    Returns:\n",
    "    -------\n",
    "    model_list : List of LDA topic models\n",
    "    coherence_values : Coherence values corresponding to the LDA model with respective number of topics\n",
    "    \"\"\"\n",
    "    coherence_values = []\n",
    "    model_list = []\n",
    "    \n",
    "    for num_topics in range(start, limit, step):\n",
    "        model = gensim.models.wrappers.LdaMallet(mallet_path, corpus=corpus, num_topics=num_topics, id2word=id2word)\n",
    "        model_list.append(model)\n",
    "        coherencemodel = CoherenceModel(model=model, texts=texts, dictionary=dictionary, coherence='c_v')\n",
    "        coherence_values.append(coherencemodel.get_coherence())\n",
    "\n",
    "    return model_list, coherence_values"
   ]
  },
  {
   "cell_type": "markdown",
   "metadata": {},
   "source": [
    "### Compute the Coherence Values for different iterations"
   ]
  },
  {
   "cell_type": "code",
   "execution_count": 29,
   "metadata": {},
   "outputs": [],
   "source": [
    "# Can take a long time to run.\n",
    "model_list, coherence_values = compute_coherence_values(dictionary=id2word, \n",
    "                                                        corpus=corpus, \n",
    "                                                        texts=data_lemmatized, \n",
    "                                                        start=2, \n",
    "                                                        limit=40, \n",
    "                                                        step=6)"
   ]
  },
  {
   "cell_type": "markdown",
   "metadata": {},
   "source": [
    "### Plot the obtained Coherence Values"
   ]
  },
  {
   "cell_type": "code",
   "execution_count": 31,
   "metadata": {},
   "outputs": [
    {
     "data": {
      "image/png": "[encoded data removed]",
      "text/plain": [
       "<Figure size 432x288 with 1 Axes>"
      ]
     },
     "metadata": {},
     "output_type": "display_data"
    }
   ],
   "source": [
    "# Show graph\n",
    "limit=40; start=2; step=6;\n",
    "\n",
    "x = range(start, limit, step)\n",
    "\n",
    "plt.plot(x, coherence_values)\n",
    "plt.xlabel(\"Num Topics\")\n",
    "plt.ylabel(\"Coherence score\")\n",
    "plt.legend((\"coherence_values\"), loc='best')\n",
    "plt.show()"
   ]
  },
  {
   "cell_type": "code",
   "execution_count": 30,
   "metadata": {},
   "outputs": [
    {
     "ename": "NameError",
     "evalue": "name 'model_list' is not defined",
     "output_type": "error",
     "traceback": [
      "\u001b[1;31m---------------------------------------------------------------------------\u001b[0m",
      "\u001b[1;31mNameError\u001b[0m                                 Traceback (most recent call last)",
      "\u001b[1;32m<ipython-input-30-1e4beaf54d67>\u001b[0m in \u001b[0;36m<module>\u001b[1;34m()\u001b[0m\n\u001b[1;32m----> 1\u001b[1;33m \u001b[0mmodel_list\u001b[0m\u001b[1;33m\u001b[0m\u001b[0m\n\u001b[0m",
      "\u001b[1;31mNameError\u001b[0m: name 'model_list' is not defined"
     ]
    }
   ],
   "source": [
    "model_list"
   ]
  },
  {
   "cell_type": "markdown",
   "metadata": {},
   "source": [
    "### Print the Coherence Scores"
   ]
  },
  {
   "cell_type": "code",
   "execution_count": 37,
   "metadata": {},
   "outputs": [
    {
     "name": "stdout",
     "output_type": "stream",
     "text": [
      "Num Topics = 2  has Coherence Value of 0.7383\n",
      "Num Topics = 8  has Coherence Value of 0.7674\n",
      "Num Topics = 14  has Coherence Value of 0.8103\n",
      "Num Topics = 20  has Coherence Value of 0.8028\n",
      "Num Topics = 26  has Coherence Value of 0.7879\n",
      "Num Topics = 32  has Coherence Value of 0.7655\n",
      "Num Topics = 38  has Coherence Value of 0.7337\n"
     ]
    }
   ],
   "source": [
    "for m, cv in zip(x, coherence_values):\n",
    "    print(\"Num Topics =\", m, \" has Coherence Value of\", round(cv, 4))"
   ]
  },
  {
   "cell_type": "markdown",
   "metadata": {},
   "source": [
    "### Select the Optimal Model and Print the topics generated from that model"
   ]
  },
  {
   "cell_type": "code",
   "execution_count": 22,
   "metadata": {},
   "outputs": [
    {
     "ename": "NameError",
     "evalue": "name 'model_list' is not defined",
     "output_type": "error",
     "traceback": [
      "\u001b[1;31m---------------------------------------------------------------------------\u001b[0m",
      "\u001b[1;31mNameError\u001b[0m                                 Traceback (most recent call last)",
      "\u001b[1;32m<ipython-input-22-e1e32c41f9c2>\u001b[0m in \u001b[0;36m<module>\u001b[1;34m()\u001b[0m\n\u001b[1;32m----> 1\u001b[1;33m \u001b[0moptimal_model\u001b[0m \u001b[1;33m=\u001b[0m \u001b[0mmodel_list\u001b[0m\u001b[1;33m[\u001b[0m\u001b[1;36m3\u001b[0m\u001b[1;33m]\u001b[0m\u001b[1;33m\u001b[0m\u001b[0m\n\u001b[0m\u001b[0;32m      2\u001b[0m \u001b[1;33m\u001b[0m\u001b[0m\n\u001b[0;32m      3\u001b[0m \u001b[0mmodel_topics\u001b[0m \u001b[1;33m=\u001b[0m \u001b[0moptimal_model\u001b[0m\u001b[1;33m.\u001b[0m\u001b[0mshow_topics\u001b[0m\u001b[1;33m(\u001b[0m\u001b[0mformatted\u001b[0m\u001b[1;33m=\u001b[0m\u001b[1;32mFalse\u001b[0m\u001b[1;33m)\u001b[0m\u001b[1;33m\u001b[0m\u001b[0m\n\u001b[0;32m      4\u001b[0m \u001b[1;33m\u001b[0m\u001b[0m\n\u001b[0;32m      5\u001b[0m \u001b[0mpprint\u001b[0m\u001b[1;33m(\u001b[0m\u001b[0moptimal_model\u001b[0m\u001b[1;33m.\u001b[0m\u001b[0mprint_topics\u001b[0m\u001b[1;33m(\u001b[0m\u001b[0mnum_words\u001b[0m\u001b[1;33m=\u001b[0m\u001b[1;36m5\u001b[0m\u001b[1;33m)\u001b[0m\u001b[1;33m)\u001b[0m\u001b[1;33m\u001b[0m\u001b[0m\n",
      "\u001b[1;31mNameError\u001b[0m: name 'model_list' is not defined"
     ]
    }
   ],
   "source": [
    "optimal_model = model_list[3]\n",
    "\n",
    "model_topics = optimal_model.show_topics(formatted=False)\n",
    "\n",
    "pprint(optimal_model.print_topics(num_words=5))"
   ]
  },
  {
   "cell_type": "code",
   "execution_count": 34,
   "metadata": {},
   "outputs": [
    {
     "data": {
      "text/html": [
       "<div>\n",
       "<style scoped>\n",
       "    .dataframe tbody tr th:only-of-type {\n",
       "        vertical-align: middle;\n",
       "    }\n",
       "\n",
       "    .dataframe tbody tr th {\n",
       "        vertical-align: top;\n",
       "    }\n",
       "\n",
       "    .dataframe thead th {\n",
       "        text-align: right;\n",
       "    }\n",
       "</style>\n",
       "<table border=\"1\" class=\"dataframe\">\n",
       "  <thead>\n",
       "    <tr style=\"text-align: right;\">\n",
       "      <th></th>\n",
       "      <th>Document_No</th>\n",
       "      <th>Dominant_Topic</th>\n",
       "      <th>Topic_Perc_Contrib</th>\n",
       "      <th>Keywords</th>\n",
       "      <th>Text</th>\n",
       "    </tr>\n",
       "  </thead>\n",
       "  <tbody>\n",
       "    <tr>\n",
       "      <th>0</th>\n",
       "      <td>0</td>\n",
       "      <td>1.0</td>\n",
       "      <td>0.0770</td>\n",
       "      <td>budget, good, small, march, find, volume, prep...</td>\n",
       "      <td>Smaller towns driving demand for regional con...</td>\n",
       "    </tr>\n",
       "    <tr>\n",
       "      <th>1</th>\n",
       "      <td>1</td>\n",
       "      <td>15.0</td>\n",
       "      <td>0.0648</td>\n",
       "      <td>banking, poor, rule, expect, charge, exchange,...</td>\n",
       "      <td>Saraswat, Cosmos to seek RBI approval for uni...</td>\n",
       "    </tr>\n",
       "    <tr>\n",
       "      <th>2</th>\n",
       "      <td>2</td>\n",
       "      <td>9.0</td>\n",
       "      <td>0.0669</td>\n",
       "      <td>plan, campaign, revenue, strategy, dot, shift,...</td>\n",
       "      <td>Income mismatch probe: 5,000 companies under ...</td>\n",
       "    </tr>\n",
       "    <tr>\n",
       "      <th>3</th>\n",
       "      <td>3</td>\n",
       "      <td>7.0</td>\n",
       "      <td>0.0784</td>\n",
       "      <td>challenge, entity, back, exit, abhijit, expans...</td>\n",
       "      <td>Rahul Bhatia-owned IGE may back Rakesh Gangwa...</td>\n",
       "    </tr>\n",
       "    <tr>\n",
       "      <th>4</th>\n",
       "      <td>4</td>\n",
       "      <td>5.0</td>\n",
       "      <td>0.0758</td>\n",
       "      <td>stock, sector, double, order, holiday, boost, ...</td>\n",
       "      <td>Shriram Capitals consolidated profit after ta...</td>\n",
       "    </tr>\n",
       "    <tr>\n",
       "      <th>5</th>\n",
       "      <td>5</td>\n",
       "      <td>9.0</td>\n",
       "      <td>0.0750</td>\n",
       "      <td>plan, campaign, revenue, strategy, dot, shift,...</td>\n",
       "      <td>Small units to be bigger as TCS revisits 2011...</td>\n",
       "    </tr>\n",
       "    <tr>\n",
       "      <th>6</th>\n",
       "      <td>6</td>\n",
       "      <td>6.0</td>\n",
       "      <td>0.0704</td>\n",
       "      <td>day, resolution, part, big, boost, street, loc...</td>\n",
       "      <td>Success fee gaining currency among insolvency...</td>\n",
       "    </tr>\n",
       "    <tr>\n",
       "      <th>7</th>\n",
       "      <td>7</td>\n",
       "      <td>2.0</td>\n",
       "      <td>0.0648</td>\n",
       "      <td>hit, eye, tax, norm, head, borrowing, party, l...</td>\n",
       "      <td>Weve strong YouTube biz; not eyeing Netflix, ...</td>\n",
       "    </tr>\n",
       "    <tr>\n",
       "      <th>8</th>\n",
       "      <td>8</td>\n",
       "      <td>14.0</td>\n",
       "      <td>0.0639</td>\n",
       "      <td>rise, slow, trigger, year, fine, business, boo...</td>\n",
       "      <td>Pizza Huts ad campaign is my favourite: Creat...</td>\n",
       "    </tr>\n",
       "    <tr>\n",
       "      <th>9</th>\n",
       "      <td>9</td>\n",
       "      <td>4.0</td>\n",
       "      <td>0.0778</td>\n",
       "      <td>firm, sale, rise, resolution, increase, bail, ...</td>\n",
       "      <td>Alembic sees India sales recovering from Q1FY...</td>\n",
       "    </tr>\n",
       "  </tbody>\n",
       "</table>\n",
       "</div>"
      ],
      "text/plain": [
       "   Document_No  Dominant_Topic  Topic_Perc_Contrib  \\\n",
       "0            0             1.0              0.0770   \n",
       "1            1            15.0              0.0648   \n",
       "2            2             9.0              0.0669   \n",
       "3            3             7.0              0.0784   \n",
       "4            4             5.0              0.0758   \n",
       "5            5             9.0              0.0750   \n",
       "6            6             6.0              0.0704   \n",
       "7            7             2.0              0.0648   \n",
       "8            8            14.0              0.0639   \n",
       "9            9             4.0              0.0778   \n",
       "\n",
       "                                            Keywords  \\\n",
       "0  budget, good, small, march, find, volume, prep...   \n",
       "1  banking, poor, rule, expect, charge, exchange,...   \n",
       "2  plan, campaign, revenue, strategy, dot, shift,...   \n",
       "3  challenge, entity, back, exit, abhijit, expans...   \n",
       "4  stock, sector, double, order, holiday, boost, ...   \n",
       "5  plan, campaign, revenue, strategy, dot, shift,...   \n",
       "6  day, resolution, part, big, boost, street, loc...   \n",
       "7  hit, eye, tax, norm, head, borrowing, party, l...   \n",
       "8  rise, slow, trigger, year, fine, business, boo...   \n",
       "9  firm, sale, rise, resolution, increase, bail, ...   \n",
       "\n",
       "                                                Text  \n",
       "0   Smaller towns driving demand for regional con...  \n",
       "1   Saraswat, Cosmos to seek RBI approval for uni...  \n",
       "2   Income mismatch probe: 5,000 companies under ...  \n",
       "3   Rahul Bhatia-owned IGE may back Rakesh Gangwa...  \n",
       "4   Shriram Capitals consolidated profit after ta...  \n",
       "5   Small units to be bigger as TCS revisits 2011...  \n",
       "6   Success fee gaining currency among insolvency...  \n",
       "7   Weve strong YouTube biz; not eyeing Netflix, ...  \n",
       "8   Pizza Huts ad campaign is my favourite: Creat...  \n",
       "9   Alembic sees India sales recovering from Q1FY...  "
      ]
     },
     "execution_count": 34,
     "metadata": {},
     "output_type": "execute_result"
    }
   ],
   "source": [
    "def format_topics_sentences(ldamodel=lda_model, corpus=corpus, texts=data):\n",
    "    # Init output\n",
    "    sent_topics_df = pd.DataFrame()\n",
    "\n",
    "    # Get main topic in each document\n",
    "    for i, row in enumerate(ldamodel[corpus]):\n",
    "        row = sorted(row, key=lambda x: (x[1]), reverse=True)\n",
    "        # Get the Dominant topic, Perc Contribution and Keywords for each document\n",
    "        for j, (topic_num, prop_topic) in enumerate(row):\n",
    "            if j == 0:  # => dominant topic\n",
    "                wp = ldamodel.show_topic(topic_num)\n",
    "                topic_keywords = \", \".join([word for word, prop in wp])\n",
    "                sent_topics_df = sent_topics_df.append(pd.Series([int(topic_num), round(prop_topic,4), topic_keywords]), ignore_index=True)\n",
    "            else:\n",
    "                break\n",
    "    sent_topics_df.columns = ['Dominant_Topic', 'Perc_Contribution', 'Topic_Keywords']\n",
    "\n",
    "    # Add original text to the end of the output\n",
    "    contents = pd.Series(texts)\n",
    "    sent_topics_df = pd.concat([sent_topics_df, contents], axis=1)\n",
    "    return(sent_topics_df)\n",
    "\n",
    "\n",
    "df_topic_sents_keywords = format_topics_sentences(ldamodel=optimal_model, corpus=corpus, texts=data)\n",
    "\n",
    "# Format\n",
    "df_dominant_topic = df_topic_sents_keywords.reset_index()\n",
    "df_dominant_topic.columns = ['Document_No', 'Dominant_Topic', 'Topic_Perc_Contrib', 'Keywords', 'Text']\n",
    "\n",
    "# Show\n",
    "df_dominant_topic.head(10)"
   ]
  },
  {
   "cell_type": "code",
   "execution_count": 35,
   "metadata": {},
   "outputs": [
    {
     "data": {
      "text/html": [
       "<div>\n",
       "<style scoped>\n",
       "    .dataframe tbody tr th:only-of-type {\n",
       "        vertical-align: middle;\n",
       "    }\n",
       "\n",
       "    .dataframe tbody tr th {\n",
       "        vertical-align: top;\n",
       "    }\n",
       "\n",
       "    .dataframe thead th {\n",
       "        text-align: right;\n",
       "    }\n",
       "</style>\n",
       "<table border=\"1\" class=\"dataframe\">\n",
       "  <thead>\n",
       "    <tr style=\"text-align: right;\">\n",
       "      <th></th>\n",
       "      <th>Topic_Num</th>\n",
       "      <th>Topic_Perc_Contrib</th>\n",
       "      <th>Keywords</th>\n",
       "      <th>Text</th>\n",
       "    </tr>\n",
       "  </thead>\n",
       "  <tbody>\n",
       "    <tr>\n",
       "      <th>0</th>\n",
       "      <td>0.0</td>\n",
       "      <td>0.0823</td>\n",
       "      <td>big, animal, group, case, rein, tighten, sugge...</td>\n",
       "      <td>Congress launches NUR campaign to gather deta...</td>\n",
       "    </tr>\n",
       "    <tr>\n",
       "      <th>1</th>\n",
       "      <td>1.0</td>\n",
       "      <td>0.0770</td>\n",
       "      <td>budget, good, small, march, find, volume, prep...</td>\n",
       "      <td>Smaller towns driving demand for regional con...</td>\n",
       "    </tr>\n",
       "    <tr>\n",
       "      <th>2</th>\n",
       "      <td>2.0</td>\n",
       "      <td>0.0757</td>\n",
       "      <td>hit, eye, tax, norm, head, borrowing, party, l...</td>\n",
       "      <td>Brookfield eyes co-living spaces; in talks wi...</td>\n",
       "    </tr>\n",
       "    <tr>\n",
       "      <th>3</th>\n",
       "      <td>3.0</td>\n",
       "      <td>0.0906</td>\n",
       "      <td>expert, management, share, indian, demand, qui...</td>\n",
       "      <td>Dr Reddys posts Rs 570-cr net loss due to hea...</td>\n",
       "    </tr>\n",
       "    <tr>\n",
       "      <th>4</th>\n",
       "      <td>4.0</td>\n",
       "      <td>0.0916</td>\n",
       "      <td>firm, sale, rise, resolution, increase, bail, ...</td>\n",
       "      <td>NCLT extends immunity to new board-appointed ...</td>\n",
       "    </tr>\n",
       "  </tbody>\n",
       "</table>\n",
       "</div>"
      ],
      "text/plain": [
       "   Topic_Num  Topic_Perc_Contrib  \\\n",
       "0        0.0              0.0823   \n",
       "1        1.0              0.0770   \n",
       "2        2.0              0.0757   \n",
       "3        3.0              0.0906   \n",
       "4        4.0              0.0916   \n",
       "\n",
       "                                            Keywords  \\\n",
       "0  big, animal, group, case, rein, tighten, sugge...   \n",
       "1  budget, good, small, march, find, volume, prep...   \n",
       "2  hit, eye, tax, norm, head, borrowing, party, l...   \n",
       "3  expert, management, share, indian, demand, qui...   \n",
       "4  firm, sale, rise, resolution, increase, bail, ...   \n",
       "\n",
       "                                                Text  \n",
       "0   Congress launches NUR campaign to gather deta...  \n",
       "1   Smaller towns driving demand for regional con...  \n",
       "2   Brookfield eyes co-living spaces; in talks wi...  \n",
       "3   Dr Reddys posts Rs 570-cr net loss due to hea...  \n",
       "4   NCLT extends immunity to new board-appointed ...  "
      ]
     },
     "execution_count": 35,
     "metadata": {},
     "output_type": "execute_result"
    }
   ],
   "source": [
    "# Group top 5 sentences under each topic\n",
    "sent_topics_sorteddf_mallet = pd.DataFrame()\n",
    "\n",
    "sent_topics_outdf_grpd = df_topic_sents_keywords.groupby('Dominant_Topic')\n",
    "\n",
    "for i, grp in sent_topics_outdf_grpd:\n",
    "    sent_topics_sorteddf_mallet = pd.concat([sent_topics_sorteddf_mallet, \n",
    "                                             grp.sort_values(['Perc_Contribution'], ascending=[0]).head(1)], \n",
    "                                            axis=0)\n",
    "\n",
    "# Reset Index    \n",
    "sent_topics_sorteddf_mallet.reset_index(drop=True, inplace=True)\n",
    "\n",
    "# Format\n",
    "sent_topics_sorteddf_mallet.columns = ['Topic_Num', \"Topic_Perc_Contrib\", \"Keywords\", \"Text\"]\n",
    "\n",
    "# Show\n",
    "sent_topics_sorteddf_mallet.head()"
   ]
  },
  {
   "cell_type": "code",
   "execution_count": 36,
   "metadata": {},
   "outputs": [
    {
     "data": {
      "text/html": [
       "<div>\n",
       "<style scoped>\n",
       "    .dataframe tbody tr th:only-of-type {\n",
       "        vertical-align: middle;\n",
       "    }\n",
       "\n",
       "    .dataframe tbody tr th {\n",
       "        vertical-align: top;\n",
       "    }\n",
       "\n",
       "    .dataframe thead th {\n",
       "        text-align: right;\n",
       "    }\n",
       "</style>\n",
       "<table border=\"1\" class=\"dataframe\">\n",
       "  <thead>\n",
       "    <tr style=\"text-align: right;\">\n",
       "      <th></th>\n",
       "      <th>Dominant_Topic</th>\n",
       "      <th>Topic_Keywords</th>\n",
       "      <th>Num_Documents</th>\n",
       "      <th>Perc_Documents</th>\n",
       "    </tr>\n",
       "  </thead>\n",
       "  <tbody>\n",
       "    <tr>\n",
       "      <th>0.0</th>\n",
       "      <td>1.0</td>\n",
       "      <td>budget, good, small, march, find, volume, prep...</td>\n",
       "      <td>10.0</td>\n",
       "      <td>0.0794</td>\n",
       "    </tr>\n",
       "    <tr>\n",
       "      <th>1.0</th>\n",
       "      <td>15.0</td>\n",
       "      <td>banking, poor, rule, expect, charge, exchange,...</td>\n",
       "      <td>10.0</td>\n",
       "      <td>0.0794</td>\n",
       "    </tr>\n",
       "    <tr>\n",
       "      <th>2.0</th>\n",
       "      <td>9.0</td>\n",
       "      <td>plan, campaign, revenue, strategy, dot, shift,...</td>\n",
       "      <td>5.0</td>\n",
       "      <td>0.0397</td>\n",
       "    </tr>\n",
       "    <tr>\n",
       "      <th>3.0</th>\n",
       "      <td>7.0</td>\n",
       "      <td>challenge, entity, back, exit, abhijit, expans...</td>\n",
       "      <td>12.0</td>\n",
       "      <td>0.0952</td>\n",
       "    </tr>\n",
       "    <tr>\n",
       "      <th>4.0</th>\n",
       "      <td>5.0</td>\n",
       "      <td>stock, sector, double, order, holiday, boost, ...</td>\n",
       "      <td>5.0</td>\n",
       "      <td>0.0397</td>\n",
       "    </tr>\n",
       "    <tr>\n",
       "      <th>...</th>\n",
       "      <td>...</td>\n",
       "      <td>...</td>\n",
       "      <td>...</td>\n",
       "      <td>...</td>\n",
       "    </tr>\n",
       "    <tr>\n",
       "      <th>121.0</th>\n",
       "      <td>11.0</td>\n",
       "      <td>caa, story, commercial, capital, india, foreig...</td>\n",
       "      <td>NaN</td>\n",
       "      <td>NaN</td>\n",
       "    </tr>\n",
       "    <tr>\n",
       "      <th>122.0</th>\n",
       "      <td>12.0</td>\n",
       "      <td>boost, power, favour, improved, focus, pick, r...</td>\n",
       "      <td>NaN</td>\n",
       "      <td>NaN</td>\n",
       "    </tr>\n",
       "    <tr>\n",
       "      <th>123.0</th>\n",
       "      <td>12.0</td>\n",
       "      <td>boost, power, favour, improved, focus, pick, r...</td>\n",
       "      <td>NaN</td>\n",
       "      <td>NaN</td>\n",
       "    </tr>\n",
       "    <tr>\n",
       "      <th>124.0</th>\n",
       "      <td>1.0</td>\n",
       "      <td>budget, good, small, march, find, volume, prep...</td>\n",
       "      <td>NaN</td>\n",
       "      <td>NaN</td>\n",
       "    </tr>\n",
       "    <tr>\n",
       "      <th>125.0</th>\n",
       "      <td>3.0</td>\n",
       "      <td>expert, management, share, indian, demand, qui...</td>\n",
       "      <td>NaN</td>\n",
       "      <td>NaN</td>\n",
       "    </tr>\n",
       "  </tbody>\n",
       "</table>\n",
       "<p>126 rows × 4 columns</p>\n",
       "</div>"
      ],
      "text/plain": [
       "       Dominant_Topic                                     Topic_Keywords  \\\n",
       "0.0               1.0  budget, good, small, march, find, volume, prep...   \n",
       "1.0              15.0  banking, poor, rule, expect, charge, exchange,...   \n",
       "2.0               9.0  plan, campaign, revenue, strategy, dot, shift,...   \n",
       "3.0               7.0  challenge, entity, back, exit, abhijit, expans...   \n",
       "4.0               5.0  stock, sector, double, order, holiday, boost, ...   \n",
       "...               ...                                                ...   \n",
       "121.0            11.0  caa, story, commercial, capital, india, foreig...   \n",
       "122.0            12.0  boost, power, favour, improved, focus, pick, r...   \n",
       "123.0            12.0  boost, power, favour, improved, focus, pick, r...   \n",
       "124.0             1.0  budget, good, small, march, find, volume, prep...   \n",
       "125.0             3.0  expert, management, share, indian, demand, qui...   \n",
       "\n",
       "       Num_Documents  Perc_Documents  \n",
       "0.0             10.0          0.0794  \n",
       "1.0             10.0          0.0794  \n",
       "2.0              5.0          0.0397  \n",
       "3.0             12.0          0.0952  \n",
       "4.0              5.0          0.0397  \n",
       "...              ...             ...  \n",
       "121.0            NaN             NaN  \n",
       "122.0            NaN             NaN  \n",
       "123.0            NaN             NaN  \n",
       "124.0            NaN             NaN  \n",
       "125.0            NaN             NaN  \n",
       "\n",
       "[126 rows x 4 columns]"
      ]
     },
     "execution_count": 36,
     "metadata": {},
     "output_type": "execute_result"
    }
   ],
   "source": [
    "# Number of Documents for Each Topic\n",
    "topic_counts = df_topic_sents_keywords['Dominant_Topic'].value_counts()\n",
    "\n",
    "# Percentage of Documents for Each Topic\n",
    "topic_contribution = round(topic_counts/topic_counts.sum(), 4)\n",
    "\n",
    "# Topic Number and Keywords\n",
    "topic_num_keywords = df_topic_sents_keywords[['Dominant_Topic', 'Topic_Keywords']]\n",
    "\n",
    "# Concatenate Column wise\n",
    "df_dominant_topics = pd.concat([topic_num_keywords, topic_counts, topic_contribution], axis=1)\n",
    "\n",
    "# Change Column names\n",
    "df_dominant_topics.columns = ['Dominant_Topic', 'Topic_Keywords', 'Num_Documents', 'Perc_Documents']\n",
    "\n",
    "# Show\n",
    "df_dominant_topics"
   ]
  },
  {
   "cell_type": "code",
   "execution_count": null,
   "metadata": {},
   "outputs": [],
   "source": []
  },
  {
   "cell_type": "code",
   "execution_count": null,
   "metadata": {},
   "outputs": [],
   "source": []
  }
 ],
 "metadata": {
  "kernelspec": {
   "display_name": "Python 3",
   "language": "python",
   "name": "python3"
  },
  "language_info": {
   "codemirror_mode": {
    "name": "ipython",
    "version": 3
   },
   "file_extension": ".py",
   "mimetype": "text/x-python",
   "name": "python",
   "nbconvert_exporter": "python",
   "pygments_lexer": "ipython3",
   "version": "3.6.5"
  }
 },
 "nbformat": 4,
 "nbformat_minor": 2
}
