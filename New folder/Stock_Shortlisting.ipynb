{
 "cells": [
  {
   "cell_type": "markdown",
   "metadata": {},
   "source": [
    "### Importing necessary libraries "
   ]
  },
  {
   "cell_type": "code",
   "execution_count": 1,
   "metadata": {},
   "outputs": [],
   "source": [
    "from bs4 import BeautifulSoup\n",
    "from urllib.request import urlopen\n",
    "import pandas as pd\n",
    "import numpy as np\n",
    "from scipy import stats\n",
    "\n",
    "import os\n",
    "import warnings\n",
    "warnings.filterwarnings('ignore')"
   ]
  },
  {
   "cell_type": "markdown",
   "metadata": {},
   "source": [
    "### PARAMETERS "
   ]
  },
  {
   "cell_type": "code",
   "execution_count": 2,
   "metadata": {},
   "outputs": [],
   "source": [
    "path = \"C:/Users/prash/Downloads/STOCK MARKET/\""
   ]
  },
  {
   "cell_type": "code",
   "execution_count": 3,
   "metadata": {},
   "outputs": [],
   "source": [
    "stock = 'ASIANPAINT'"
   ]
  },
  {
   "cell_type": "markdown",
   "metadata": {},
   "source": [
    "### Reading the historical share prices (CSV)"
   ]
  },
  {
   "cell_type": "code",
   "execution_count": 4,
   "metadata": {},
   "outputs": [],
   "source": [
    "share_price = pd.read_csv(path + \"MONTHLY SHARE PRICES/\" + stock + \".csv\")\n",
    "\n",
    "share_price['Year'] = pd.to_datetime(share_price['Date']).dt.to_period('Y')"
   ]
  },
  {
   "cell_type": "markdown",
   "metadata": {},
   "source": [
    "### Crawling the SCREENER website "
   ]
  },
  {
   "cell_type": "code",
   "execution_count": 5,
   "metadata": {},
   "outputs": [],
   "source": [
    "url = ('https://www.screener.in/company/' + stock)\n",
    "\n",
    "page = urlopen(url)\n",
    "\n",
    "soup = BeautifulSoup(page, 'html.parser')"
   ]
  },
  {
   "cell_type": "markdown",
   "metadata": {},
   "source": [
    "### Extracting the Book Value from SCREENER"
   ]
  },
  {
   "cell_type": "code",
   "execution_count": 6,
   "metadata": {},
   "outputs": [
    {
     "data": {
      "text/plain": [
       "98.23"
      ]
     },
     "execution_count": 6,
     "metadata": {},
     "output_type": "execute_result"
    }
   ],
   "source": [
    "summary_section = soup.findAll('li', {\"class\" : 'four columns'})\n",
    "\n",
    "for li in summary_section:\n",
    "    li_name = li.find('b')\n",
    "    if( (np.array(li.text.split())[0]) == \"Book\"):\n",
    "        book_value = float(li_name.text)\n",
    "book_value"
   ]
  },
  {
   "cell_type": "markdown",
   "metadata": {},
   "source": [
    "### Extracting the Market Value from SCREENER"
   ]
  },
  {
   "cell_type": "code",
   "execution_count": 7,
   "metadata": {},
   "outputs": [
    {
     "data": {
      "text/plain": [
       "172584.0"
      ]
     },
     "execution_count": 7,
     "metadata": {},
     "output_type": "execute_result"
    }
   ],
   "source": [
    "summary_section = soup.findAll('li', {\"class\" : 'four columns'})\n",
    "\n",
    "for li in summary_section:\n",
    "    li_name = li.find('b')\n",
    "    if( (np.array(li.text.split())[0]) == \"Market\"):\n",
    "        market_value = (li_name.text)\n",
    "        market_value = float(market_value.replace(',',''))\n",
    "market_value"
   ]
  },
  {
   "cell_type": "markdown",
   "metadata": {},
   "source": [
    "### Extracting the CMP(Current Market Price) from SCREENER"
   ]
  },
  {
   "cell_type": "code",
   "execution_count": 8,
   "metadata": {},
   "outputs": [
    {
     "data": {
      "text/plain": [
       "1799.0"
      ]
     },
     "execution_count": 8,
     "metadata": {},
     "output_type": "execute_result"
    }
   ],
   "source": [
    "summary_section = soup.findAll('li', {\"class\" : 'four columns'})\n",
    "\n",
    "for li in summary_section:\n",
    "    li_name = li.find('b')\n",
    "    if( (np.array(li.text.split())[0]) == \"Current\"):\n",
    "        cmp = (li_name.text)\n",
    "        cmp = float(cmp.replace(',',''))\n",
    "cmp"
   ]
  },
  {
   "cell_type": "markdown",
   "metadata": {},
   "source": [
    "### Extracting the Profit-Loss section/table from SCREENER"
   ]
  },
  {
   "cell_type": "code",
   "execution_count": 9,
   "metadata": {},
   "outputs": [],
   "source": [
    "profit_loss_section = soup.findAll('section', {\"id\" : 'profit-loss'})\n",
    "\n",
    "profit_loss_df = []\n",
    "\n",
    "for section in profit_loss_section:\n",
    "    col_names = section.find('thead')\n",
    "    col_names = col_names.find_all('th')\n",
    "    df = [cell.text.strip() for cell in col_names]\n",
    "    profit_loss_df.append(df)\n",
    "    \n",
    "for section in profit_loss_section:\n",
    "    table_body = section.find('tbody')\n",
    "    rows = table_body.find_all('tr')\n",
    "    for row in rows:\n",
    "        row_vals = row.find_all('td')\n",
    "        df1 = [cell.text.strip() for cell in row_vals] \n",
    "        profit_loss_df.append(df1)\n",
    "        \n",
    "profit_loss_df = pd.DataFrame(profit_loss_df)\n",
    "\n",
    "profit_loss_df.columns = profit_loss_df.iloc[0]\n",
    "\n",
    "profit_loss_df = profit_loss_df.drop(profit_loss_df.index[0])"
   ]
  },
  {
   "cell_type": "markdown",
   "metadata": {},
   "source": [
    "### Extracting the Balance Sheet section/table from SCREENER"
   ]
  },
  {
   "cell_type": "code",
   "execution_count": 10,
   "metadata": {},
   "outputs": [],
   "source": [
    "balance_sheet_section = soup.findAll('section', {\"id\" : 'balance-sheet'})\n",
    "\n",
    "balance_sheet_df = []\n",
    "\n",
    "for section in balance_sheet_section:\n",
    "    col_names = section.find('thead')\n",
    "    col_names = col_names.find_all('th')\n",
    "    df = [cell.text.strip() for cell in col_names]\n",
    "    balance_sheet_df.append(df)\n",
    "    \n",
    "for section in balance_sheet_section:\n",
    "    table_body = section.find('tbody')\n",
    "    rows = table_body.find_all('tr')\n",
    "    for row in rows:\n",
    "        row_vals = row.find_all('td')\n",
    "        df1 = [cell.text.strip() for cell in row_vals] \n",
    "        balance_sheet_df.append(df1)\n",
    "        \n",
    "balance_sheet_df = pd.DataFrame(balance_sheet_df)\n",
    "\n",
    "balance_sheet_df.columns = balance_sheet_df.iloc[0]\n",
    "\n",
    "balance_sheet_df = balance_sheet_df.drop(balance_sheet_df.index[0])\n",
    "\n",
    "balance_sheet_df.drop(balance_sheet_df.columns[len(balance_sheet_df.columns)-1], axis=1, inplace=True)"
   ]
  },
  {
   "cell_type": "markdown",
   "metadata": {},
   "source": [
    "### Total Liabilities from Balance Sheet Dataframe "
   ]
  },
  {
   "cell_type": "code",
   "execution_count": 11,
   "metadata": {},
   "outputs": [],
   "source": [
    "total_liabilities = balance_sheet_df.iloc[4][len(balance_sheet_df.columns)-1]\n",
    "\n",
    "total_liabilities = float(total_liabilities.replace(',',''))"
   ]
  },
  {
   "cell_type": "markdown",
   "metadata": {},
   "source": [
    "### Total Sales from Profit-Loss Dataframe "
   ]
  },
  {
   "cell_type": "code",
   "execution_count": 12,
   "metadata": {},
   "outputs": [],
   "source": [
    "total_sales = profit_loss_df.iloc[0][len(profit_loss_df.columns)-2]\n",
    "\n",
    "total_sales = float(total_sales.replace(',',''))"
   ]
  },
  {
   "cell_type": "markdown",
   "metadata": {},
   "source": [
    "### Yearly EPS(Earnings Per Share) Data from Profit-Loss Dataframe "
   ]
  },
  {
   "cell_type": "code",
   "execution_count": 13,
   "metadata": {},
   "outputs": [],
   "source": [
    "years_column = pd.DataFrame(profit_loss_df.columns[:-1])\n",
    "years_column.columns = [\"Name\"]\n",
    "years_column[[\"Month\",\"Year\"]] = years_column.Name.str.split(expand=True) \n",
    "\n",
    "\n",
    "yearly_eps = pd.DataFrame(profit_loss_df.iloc[10])\n",
    "yearly_eps = yearly_eps[:-1]\n",
    "\n",
    "yearly_eps[\"Year\"] = np.array(years_column[\"Year\"])\n",
    "\n",
    "yearly_eps = yearly_eps.drop(yearly_eps.index[0])\n",
    "\n",
    "yearly_eps = pd.DataFrame(np.array(yearly_eps))\n",
    "\n",
    "yearly_eps.columns = [\"EPS\",\"Year\"]\n",
    "\n",
    "yearly_eps[\"Year\"] = yearly_eps[\"Year\"].astype(str).astype(float)\n"
   ]
  },
  {
   "cell_type": "markdown",
   "metadata": {},
   "source": [
    "### Yearly CMP (Current Market Price) from Share Price Dataframe "
   ]
  },
  {
   "cell_type": "code",
   "execution_count": 14,
   "metadata": {},
   "outputs": [],
   "source": [
    "yearly_cmp = share_price.groupby('Year', as_index=False)['Close'].mean()\n",
    "\n",
    "yearly_cmp[\"Year\"] = yearly_cmp[\"Year\"].astype(str).astype(int)"
   ]
  },
  {
   "cell_type": "markdown",
   "metadata": {},
   "source": [
    "### Calculating Yearly P/E Ratio and EPS-GR (EPS Growth Rate)"
   ]
  },
  {
   "cell_type": "code",
   "execution_count": 15,
   "metadata": {},
   "outputs": [],
   "source": [
    "yearly_p_by_e_ratio = pd.merge(yearly_cmp,yearly_eps,on='Year', how='left')\n",
    "\n",
    "yearly_p_by_e_ratio = yearly_p_by_e_ratio.dropna()\n",
    "\n",
    "yearly_p_by_e_ratio[\"EPS\"] = yearly_p_by_e_ratio[\"EPS\"].astype(str).astype(float)\n",
    "\n",
    "yearly_p_by_e_ratio[\"P/E\"] = yearly_p_by_e_ratio[\"Close\"]/yearly_p_by_e_ratio[\"EPS\"]\n",
    "\n",
    "yearly_p_by_e_ratio[\"EPS GR\"] = 0\n",
    "\n",
    "for i in range(1,yearly_p_by_e_ratio.shape[0]):\n",
    "    yearly_p_by_e_ratio[\"EPS GR\"].iloc[i] = ((yearly_p_by_e_ratio[\"EPS\"].iloc[i] - yearly_p_by_e_ratio[\"EPS\"].iloc[i-1])/yearly_p_by_e_ratio[\"EPS\"].iloc[i-1])*100"
   ]
  },
  {
   "cell_type": "code",
   "execution_count": 16,
   "metadata": {},
   "outputs": [],
   "source": [
    "#yearly_p_by_e_ratio"
   ]
  },
  {
   "cell_type": "markdown",
   "metadata": {},
   "source": [
    "### Removing Outliers "
   ]
  },
  {
   "cell_type": "code",
   "execution_count": 17,
   "metadata": {},
   "outputs": [],
   "source": [
    "yearly_p_by_e_ratio = yearly_p_by_e_ratio[(np.abs(stats.zscore(yearly_p_by_e_ratio)) < yearly_p_by_e_ratio.shape[1]).all(axis=1)]"
   ]
  },
  {
   "cell_type": "markdown",
   "metadata": {},
   "source": [
    "### Finding the P/E GR "
   ]
  },
  {
   "cell_type": "code",
   "execution_count": 18,
   "metadata": {},
   "outputs": [],
   "source": [
    "p_by_e_gr = (yearly_p_by_e_ratio['P/E'].iloc[yearly_p_by_e_ratio.shape[0]-1] / yearly_p_by_e_ratio['P/E'].iloc[0]) ** (1/yearly_p_by_e_ratio.shape[0])\n",
    "p_by_e_gr = p_by_e_gr - 1"
   ]
  },
  {
   "cell_type": "code",
   "execution_count": 19,
   "metadata": {},
   "outputs": [],
   "source": [
    "eps_gr = (yearly_p_by_e_ratio['EPS'].iloc[yearly_p_by_e_ratio.shape[0]-1] / yearly_p_by_e_ratio['EPS'].iloc[0]) ** (1/yearly_p_by_e_ratio.shape[0])\n",
    "eps_gr = eps_gr - 1"
   ]
  },
  {
   "cell_type": "code",
   "execution_count": 20,
   "metadata": {},
   "outputs": [
    {
     "data": {
      "text/plain": [
       "0.11913516374810418"
      ]
     },
     "execution_count": 20,
     "metadata": {},
     "output_type": "execute_result"
    }
   ],
   "source": [
    "eps_gr"
   ]
  },
  {
   "cell_type": "markdown",
   "metadata": {},
   "source": [
    "### Finding the Avg P/E (OR) Intrinsic P/E"
   ]
  },
  {
   "cell_type": "code",
   "execution_count": 21,
   "metadata": {},
   "outputs": [],
   "source": [
    "avg_p_by_e = np.sum(yearly_p_by_e_ratio['P/E'])/yearly_p_by_e_ratio.shape[0]"
   ]
  },
  {
   "cell_type": "markdown",
   "metadata": {},
   "source": [
    "### Finding the Best Case P/E "
   ]
  },
  {
   "cell_type": "code",
   "execution_count": 22,
   "metadata": {},
   "outputs": [],
   "source": [
    "best_case_p_by_e = yearly_p_by_e_ratio['P/E'].iloc[yearly_p_by_e_ratio.shape[0]-1]*(1 + p_by_e_gr)"
   ]
  },
  {
   "cell_type": "markdown",
   "metadata": {},
   "source": [
    "### Finding the Intrinsic Value "
   ]
  },
  {
   "cell_type": "code",
   "execution_count": 23,
   "metadata": {},
   "outputs": [
    {
     "data": {
      "text/plain": [
       "1414.2607951485438"
      ]
     },
     "execution_count": 23,
     "metadata": {},
     "output_type": "execute_result"
    }
   ],
   "source": [
    "intrinsic_value = avg_p_by_e*float(yearly_eps['EPS'][yearly_eps.shape[0]-1])\n",
    "intrinsic_value"
   ]
  },
  {
   "cell_type": "markdown",
   "metadata": {},
   "source": [
    "### Finding the Most Optimistic Value"
   ]
  },
  {
   "cell_type": "code",
   "execution_count": 24,
   "metadata": {},
   "outputs": [
    {
     "data": {
      "text/plain": [
       "1531.5056823963937"
      ]
     },
     "execution_count": 24,
     "metadata": {},
     "output_type": "execute_result"
    }
   ],
   "source": [
    "most_optimistic_value = best_case_p_by_e*float(yearly_eps['EPS'][yearly_eps.shape[0]-1])\n",
    "most_optimistic_value"
   ]
  },
  {
   "cell_type": "code",
   "execution_count": 25,
   "metadata": {},
   "outputs": [
    {
     "data": {
      "text/plain": [
       "True"
      ]
     },
     "execution_count": 25,
     "metadata": {},
     "output_type": "execute_result"
    }
   ],
   "source": [
    "cmp > intrinsic_value"
   ]
  },
  {
   "cell_type": "markdown",
   "metadata": {},
   "source": [
    "### PEG Ratio - Need below 2 or as low as possible "
   ]
  },
  {
   "cell_type": "code",
   "execution_count": 26,
   "metadata": {},
   "outputs": [
    {
     "data": {
      "text/plain": [
       "5.33291149686625"
      ]
     },
     "execution_count": 26,
     "metadata": {},
     "output_type": "execute_result"
    }
   ],
   "source": [
    "peg_ratio = avg_p_by_e / (eps_gr*100)\n",
    "peg_ratio"
   ]
  },
  {
   "cell_type": "code",
   "execution_count": 27,
   "metadata": {},
   "outputs": [
    {
     "data": {
      "text/plain": [
       "True"
      ]
     },
     "execution_count": 27,
     "metadata": {},
     "output_type": "execute_result"
    }
   ],
   "source": [
    "peg_ratio>2"
   ]
  },
  {
   "cell_type": "markdown",
   "metadata": {},
   "source": [
    "### P/B Ratio (Price to Book Value) - Need below 1 or as low as possible"
   ]
  },
  {
   "cell_type": "code",
   "execution_count": 28,
   "metadata": {},
   "outputs": [
    {
     "data": {
      "text/plain": [
       "18.314160643387968"
      ]
     },
     "execution_count": 28,
     "metadata": {},
     "output_type": "execute_result"
    }
   ],
   "source": [
    "p_by_b_ratio = cmp / book_value\n",
    "p_by_b_ratio"
   ]
  },
  {
   "cell_type": "markdown",
   "metadata": {},
   "source": [
    "### ROE(Return On Equity) - Need above 15% or as high as possible"
   ]
  },
  {
   "cell_type": "code",
   "execution_count": 29,
   "metadata": {},
   "outputs": [
    {
     "data": {
      "text/plain": [
       "22.661101496487834"
      ]
     },
     "execution_count": 29,
     "metadata": {},
     "output_type": "execute_result"
    }
   ],
   "source": [
    "roe = (float(yearly_eps['EPS'][yearly_eps.shape[0]-1]) / book_value)*100\n",
    "roe"
   ]
  },
  {
   "cell_type": "markdown",
   "metadata": {},
   "source": [
    "### D/E Ratio (Debt to Equity) - Need as low as possible (Industry Specific)"
   ]
  },
  {
   "cell_type": "code",
   "execution_count": 30,
   "metadata": {},
   "outputs": [
    {
     "data": {
      "text/plain": [
       "1.4012799059932444"
      ]
     },
     "execution_count": 30,
     "metadata": {},
     "output_type": "execute_result"
    }
   ],
   "source": [
    "d_by_e_ratio = total_liabilities/(book_value * (market_value/cmp) )\n",
    "d_by_e_ratio"
   ]
  },
  {
   "cell_type": "markdown",
   "metadata": {},
   "source": [
    "### PSR (Price to Sales Ratio) - Need below 2 or as low as possible "
   ]
  },
  {
   "cell_type": "code",
   "execution_count": 31,
   "metadata": {},
   "outputs": [
    {
     "data": {
      "text/plain": [
       "10.528550512445095"
      ]
     },
     "execution_count": 31,
     "metadata": {},
     "output_type": "execute_result"
    }
   ],
   "source": [
    "psr = market_value/total_sales\n",
    "psr"
   ]
  },
  {
   "cell_type": "code",
   "execution_count": null,
   "metadata": {},
   "outputs": [],
   "source": []
  },
  {
   "cell_type": "code",
   "execution_count": null,
   "metadata": {},
   "outputs": [],
   "source": []
  },
  {
   "cell_type": "code",
   "execution_count": null,
   "metadata": {},
   "outputs": [],
   "source": []
  }
 ],
 "metadata": {
  "kernelspec": {
   "display_name": "Python 3",
   "language": "python",
   "name": "python3"
  },
  "language_info": {
   "codemirror_mode": {
    "name": "ipython",
    "version": 3
   },
   "file_extension": ".py",
   "mimetype": "text/x-python",
   "name": "python",
   "nbconvert_exporter": "python",
   "pygments_lexer": "ipython3",
   "version": "3.6.5"
  }
 },
 "nbformat": 4,
 "nbformat_minor": 2
}
