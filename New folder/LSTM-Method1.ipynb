{
 "cells": [
  {
   "cell_type": "code",
   "execution_count": 90,
   "metadata": {},
   "outputs": [],
   "source": [
    "import numpy as np\n",
    "import pandas as pd\n",
    "import math\n",
    "import sklearn\n",
    "import datetime\n",
    "import os\n",
    "import matplotlib.pyplot as plt\n",
    "import tensorflow as tf"
   ]
  },
  {
   "cell_type": "code",
   "execution_count": 91,
   "metadata": {},
   "outputs": [],
   "source": [
    "path = \"C:/Users/prash/Downloads/STOCK MARKET/\""
   ]
  },
  {
   "cell_type": "code",
   "execution_count": 92,
   "metadata": {},
   "outputs": [],
   "source": [
    "stock = 'RELIANCE'"
   ]
  },
  {
   "cell_type": "code",
   "execution_count": 93,
   "metadata": {},
   "outputs": [],
   "source": [
    "df = pd.read_csv(path + \"MONTHLY SHARE PRICES/\" + stock + \".csv\")"
   ]
  },
  {
   "cell_type": "code",
   "execution_count": 60,
   "metadata": {
    "scrolled": false
   },
   "outputs": [
    {
     "data": {
      "text/html": [
       "<div>\n",
       "<style scoped>\n",
       "    .dataframe tbody tr th:only-of-type {\n",
       "        vertical-align: middle;\n",
       "    }\n",
       "\n",
       "    .dataframe tbody tr th {\n",
       "        vertical-align: top;\n",
       "    }\n",
       "\n",
       "    .dataframe thead th {\n",
       "        text-align: right;\n",
       "    }\n",
       "</style>\n",
       "<table border=\"1\" class=\"dataframe\">\n",
       "  <thead>\n",
       "    <tr style=\"text-align: right;\">\n",
       "      <th></th>\n",
       "      <th>Date</th>\n",
       "      <th>Open</th>\n",
       "      <th>High</th>\n",
       "      <th>Low</th>\n",
       "      <th>Close</th>\n",
       "      <th>Adj Close</th>\n",
       "      <th>Volume</th>\n",
       "    </tr>\n",
       "  </thead>\n",
       "  <tbody>\n",
       "    <tr>\n",
       "      <th>0</th>\n",
       "      <td>1996-01-01</td>\n",
       "      <td>16.009800</td>\n",
       "      <td>16.943001</td>\n",
       "      <td>11.874600</td>\n",
       "      <td>13.803500</td>\n",
       "      <td>2.072786</td>\n",
       "      <td>3553713872</td>\n",
       "    </tr>\n",
       "    <tr>\n",
       "      <th>1</th>\n",
       "      <td>1996-02-01</td>\n",
       "      <td>13.666900</td>\n",
       "      <td>19.129700</td>\n",
       "      <td>13.627800</td>\n",
       "      <td>16.544701</td>\n",
       "      <td>2.484416</td>\n",
       "      <td>6845404770</td>\n",
       "    </tr>\n",
       "    <tr>\n",
       "      <th>2</th>\n",
       "      <td>1996-03-01</td>\n",
       "      <td>16.673599</td>\n",
       "      <td>18.586901</td>\n",
       "      <td>15.033600</td>\n",
       "      <td>16.154200</td>\n",
       "      <td>2.425776</td>\n",
       "      <td>5383402631</td>\n",
       "    </tr>\n",
       "    <tr>\n",
       "      <th>3</th>\n",
       "      <td>1996-04-01</td>\n",
       "      <td>16.224501</td>\n",
       "      <td>20.500299</td>\n",
       "      <td>16.087900</td>\n",
       "      <td>19.106300</td>\n",
       "      <td>2.869075</td>\n",
       "      <td>4091974935</td>\n",
       "    </tr>\n",
       "    <tr>\n",
       "      <th>4</th>\n",
       "      <td>1996-05-01</td>\n",
       "      <td>20.851700</td>\n",
       "      <td>21.078199</td>\n",
       "      <td>17.614599</td>\n",
       "      <td>18.614300</td>\n",
       "      <td>2.795194</td>\n",
       "      <td>5445178207</td>\n",
       "    </tr>\n",
       "  </tbody>\n",
       "</table>\n",
       "</div>"
      ],
      "text/plain": [
       "         Date       Open       High        Low      Close  Adj Close  \\\n",
       "0  1996-01-01  16.009800  16.943001  11.874600  13.803500   2.072786   \n",
       "1  1996-02-01  13.666900  19.129700  13.627800  16.544701   2.484416   \n",
       "2  1996-03-01  16.673599  18.586901  15.033600  16.154200   2.425776   \n",
       "3  1996-04-01  16.224501  20.500299  16.087900  19.106300   2.869075   \n",
       "4  1996-05-01  20.851700  21.078199  17.614599  18.614300   2.795194   \n",
       "\n",
       "       Volume  \n",
       "0  3553713872  \n",
       "1  6845404770  \n",
       "2  5383402631  \n",
       "3  4091974935  \n",
       "4  5445178207  "
      ]
     },
     "execution_count": 60,
     "metadata": {},
     "output_type": "execute_result"
    }
   ],
   "source": [
    "df.head()"
   ]
  },
  {
   "cell_type": "code",
   "execution_count": 61,
   "metadata": {},
   "outputs": [],
   "source": [
    "df = df[['Open','Close',\"High\",\"Low\"]]"
   ]
  },
  {
   "cell_type": "code",
   "execution_count": 62,
   "metadata": {
    "scrolled": true
   },
   "outputs": [
    {
     "data": {
      "text/plain": [
       "<matplotlib.legend.Legend at 0x16c7f2a02e8>"
      ]
     },
     "execution_count": 62,
     "metadata": {},
     "output_type": "execute_result"
    },
    {
     "data": {
      "image/png": "[encoded data removed]",
      "text/plain": [
       "<Figure size 1080x360 with 1 Axes>"
      ]
     },
     "metadata": {},
     "output_type": "display_data"
    }
   ],
   "source": [
    "plt.figure(figsize=(15, 5));\n",
    "plt.subplot(1,2,1);\n",
    "plt.plot(df.Open.values, color='red', label='open')\n",
    "plt.plot(df.Close.values, color='green', label='close')\n",
    "# plt.plot(df.Low.values, color='blue', label='low')\n",
    "# plt.plot(df.High.values, color='black', label='high')\n",
    "plt.title('stock price')\n",
    "plt.xlabel('time [days]')\n",
    "plt.ylabel('price')\n",
    "plt.legend(loc='best')"
   ]
  },
  {
   "cell_type": "code",
   "execution_count": 63,
   "metadata": {},
   "outputs": [],
   "source": [
    "# split data in 80%/10%/10% train/validation/test sets\n",
    "valid_set_size_percentage = 10 \n",
    "test_set_size_percentage = 10\n",
    "seq_len = 20"
   ]
  },
  {
   "cell_type": "code",
   "execution_count": 64,
   "metadata": {},
   "outputs": [
    {
     "name": "stderr",
     "output_type": "stream",
     "text": [
      "C:\\Users\\prash\\Anaconda3\\lib\\site-packages\\ipykernel_launcher.py:1: FutureWarning: Method .as_matrix will be removed in a future version. Use .values instead.\n",
      "  \"\"\"Entry point for launching an IPython kernel.\n"
     ]
    }
   ],
   "source": [
    "data_raw = df.as_matrix() # convert to numpy array\n",
    "data = []"
   ]
  },
  {
   "cell_type": "code",
   "execution_count": 88,
   "metadata": {
    "scrolled": true
   },
   "outputs": [
    {
     "data": {
      "text/plain": [
       "array([  16.0098  ,   13.6669  ,   16.673599,   16.224501,   20.8517  ,\n",
       "         18.9774  ,   16.482201,   17.021099,   16.564301,   14.9945  ,\n",
       "         15.8887  ,   14.0769  ,   16.3612  ,   20.266001,   23.9834  ,\n",
       "         18.926701,   23.975599,   23.702299,   29.051901,   28.1889  ,\n",
       "         25.8304  ,   28.192801,   56.705799,   24.537901,   26.060801,\n",
       "         24.2099  ,   25.115801,   27.724199,   30.067101,   26.396601,\n",
       "         22.023199,   21.0938  ,   16.697001,   18.516701,   17.1968  ,\n",
       "         17.446699,   18.743099,   20.5394  ,   22.648001,   20.445601,\n",
       "         21.3125  ,   26.256001,   27.677401,   27.8179  ,   30.527901,\n",
       "         37.4394  ,   36.720901,   34.799801,   37.095798,   51.668598,\n",
       "         49.200699,   51.176601,   54.355099,   53.433601,   52.793201,\n",
       "         52.480801,   52.933701,   53.1134  ,   48.490101,   51.075001,\n",
       "         53.105499,   59.899899,   64.976196,   60.3685  ,   53.4179  ,\n",
       "         61.422798,   57.916302,   50.1301  ,   48.576   ,   41.234901,\n",
       "         40.141499,   45.467701,   47.623199,   46.9594  ,   48.107399,\n",
       "         47.115601,   44.350899,   41.789398,   42.179901,   38.501499,\n",
       "         40.6101  ,   40.000999,   41.515999,   45.2803  ,   46.9828  ,\n",
       "         44.046398,   46.0769  ,   43.1092  ,   42.890499,   46.701599,\n",
       "         50.926701,   56.182499,   62.2038  ,   68.880997,   76.058098,\n",
       "         76.550102,   90.591797,   87.780296,   88.873703,   84.187897,\n",
       "         82.313599,   67.943901,   68.631104,   76.222099,   74.293098,\n",
       "         80.9235  ,   83.078903,   81.688797,   84.250397,   83.391296,\n",
       "         87.077499,   86.999397,   82.704102,   84.0317  ,  100.431999,\n",
       "        109.804001,  112.303001,  122.611   ,  121.362   ,  130.108994,\n",
       "        139.479996,  178.649994,  177.      ,  200.25    ,  256.25    ,\n",
       "        241.25    ,  265.412994,  243.5     ,  278.75    ,  291.312012,\n",
       "        305.25    ,  311.274994,  318.75    ,  342.      ,  343.75    ,\n",
       "        338.75    ,  393.75    ,  443.200012,  426.      ,  465.5     ,\n",
       "        490.225006,  577.5     ,  705.      ,  722.049988,  722.5     ,\n",
       "        622.5     ,  599.950012,  574.75    , 1304.      ,  607.      ,\n",
       "        527.5     ,  542.513   ,  530.      ,  490.      ,  359.75    ,\n",
       "        281.325012,  310.      ,  322.5     ,  307.174988,  380.75    ,\n",
       "        452.549988,  582.5     ,  507.475006,  492.225006,  506.200012,\n",
       "        549.974976,  481.75    ,  537.5     ,  546.674988,  518.75    ,\n",
       "        979.299988,  539.      ,  513.      ,  521.650024,  542.      ,\n",
       "        508.      ,  462.524994,  496.      ,  560.5     ,  492.5     ,\n",
       "        532.5     ,  462.549988,  486.850006,  524.525024,  491.950012,\n",
       "        476.      ,  453.5     ,  419.      ,  398.350006,  395.600006,\n",
       "        435.25    ,  399.5     ,  348.399994,  409.450012,  405.899994,\n",
       "        374.674988,  372.5     ,  353.674988,  367.75    ,  370.125   ,\n",
       "        384.      ,  420.      ,  397.5     ,  397.5     ,  422.      ,\n",
       "        445.674988,  408.      ,  390.5     ,  394.100006,  401.850006,\n",
       "        431.      ,  437.575012,  426.600006,  413.149994,  455.049988,\n",
       "        426.5     ,  448.725006,  413.100006,  400.049988,  468.      ,\n",
       "        467.899994,  537.375   ,  508.600006,  497.5     ,  502.174988,\n",
       "        471.799988,  502.      ,  494.5     ,  443.149994,  458.024994,\n",
       "        434.5     ,  412.450012,  431.174988,  440.      ,  500.5     ,\n",
       "        500.5     ,  426.950012,  436.975006,  474.5     ,  482.      ,\n",
       "        504.899994,  519.974976,  482.350006,  519.549988,  489.5     ,\n",
       "        478.975006,  486.375   ,  509.      ,  526.5     ,  543.5     ,\n",
       "        525.650024,  500.      ,  542.      ,  523.049988,  620.049988,\n",
       "        671.      ,  697.599976,  666.349976,  694.099976,  811.375   ,\n",
       "        799.924988,  780.900024,  947.75    ,  924.450012,  922.700012,\n",
       "        963.25    ,  949.75    ,  893.      ,  963.299988,  920.      ,\n",
       "        972.349976, 1190.400024, 1245.      , 1257.699951, 1067.900024,\n",
       "       1174.900024, 1125.25    , 1234.      , 1237.      , 1370.      ,\n",
       "       1392.800049, 1335.      , 1258.050049, 1163.400024, 1248.550049,\n",
       "       1337.      , 1455.      , 1581.949951])"
      ]
     },
     "execution_count": 88,
     "metadata": {},
     "output_type": "execute_result"
    }
   ],
   "source": [
    "np.array(df.iloc[:,0])"
   ]
  },
  {
   "cell_type": "code",
   "execution_count": 65,
   "metadata": {},
   "outputs": [],
   "source": [
    "# create all possible sequences of length seq_len\n",
    "for index in range(len(data_raw) - seq_len): \n",
    "    data.append(data_raw[index: index + seq_len])"
   ]
  },
  {
   "cell_type": "code",
   "execution_count": 76,
   "metadata": {
    "scrolled": true
   },
   "outputs": [
    {
     "data": {
      "text/plain": [
       "array([[[  16.0098  ,   13.8035  ,   16.943001,   11.8746  ],\n",
       "        [  13.6669  ,   16.544701,   19.1297  ,   13.6278  ],\n",
       "        [  16.673599,   16.1542  ,   18.586901,   15.0336  ],\n",
       "        ...,\n",
       "        [  23.702299,   28.7668  ,   30.4576  ,   23.471901],\n",
       "        [  29.051901,   28.1147  ,   29.4345  ,   26.7285  ],\n",
       "        [  28.1889  ,   25.7952  ,   30.106199,   25.6078  ]],\n",
       "\n",
       "       [[  13.6669  ,   16.544701,   19.1297  ,   13.6278  ],\n",
       "        [  16.673599,   16.1542  ,   18.586901,   15.0336  ],\n",
       "        [  16.224501,   19.1063  ,   20.500299,   16.0879  ],\n",
       "        ...,\n",
       "        [  29.051901,   28.1147  ,   29.4345  ,   26.7285  ],\n",
       "        [  28.1889  ,   25.7952  ,   30.106199,   25.6078  ],\n",
       "        [  25.8304  ,   28.2279  ,   28.3451  ,   25.771799]],\n",
       "\n",
       "       [[  16.673599,   16.1542  ,   18.586901,   15.0336  ],\n",
       "        [  16.224501,   19.1063  ,   20.500299,   16.0879  ],\n",
       "        [  20.8517  ,   18.6143  ,   21.078199,   17.614599],\n",
       "        ...,\n",
       "        [  28.1889  ,   25.7952  ,   30.106199,   25.6078  ],\n",
       "        [  25.8304  ,   28.2279  ,   28.3451  ,   25.771799],\n",
       "        [  28.192801,   56.6199  ,   61.422798,   27.7164  ]],\n",
       "\n",
       "       ...,\n",
       "\n",
       "       [[ 963.25    ,  954.549988,  972.599976,  871.      ],\n",
       "        [ 949.75    ,  882.700012,  959.900024,  880.      ],\n",
       "        [ 893.      ,  963.299988, 1011.      ,  885.25    ],\n",
       "        ...,\n",
       "        [1258.050049, 1166.25    , 1300.      , 1162.400024],\n",
       "        [1163.400024, 1248.550049, 1304.449951, 1095.300049],\n",
       "        [1248.550049, 1332.25    , 1335.75    , 1172.650024]],\n",
       "\n",
       "       [[ 949.75    ,  882.700012,  959.900024,  880.      ],\n",
       "        [ 893.      ,  963.299988, 1011.      ,  885.25    ],\n",
       "        [ 963.299988,  921.349976, 1000.      ,  906.599976],\n",
       "        ...,\n",
       "        [1163.400024, 1248.550049, 1304.449951, 1095.300049],\n",
       "        [1248.550049, 1332.25    , 1335.75    , 1172.650024],\n",
       "        [1337.      , 1464.349976, 1489.650024, 1281.300049]],\n",
       "\n",
       "       [[ 893.      ,  963.299988, 1011.      ,  885.25    ],\n",
       "        [ 963.299988,  921.349976, 1000.      ,  906.599976],\n",
       "        [ 920.      ,  972.450012, 1036.      ,  918.450012],\n",
       "        ...,\n",
       "        [1248.550049, 1332.25    , 1335.75    , 1172.650024],\n",
       "        [1337.      , 1464.349976, 1489.650024, 1281.300049],\n",
       "        [1455.      , 1551.150024, 1584.150024, 1422.550049]]])"
      ]
     },
     "execution_count": 76,
     "metadata": {},
     "output_type": "execute_result"
    }
   ],
   "source": [
    "data"
   ]
  },
  {
   "cell_type": "code",
   "execution_count": 71,
   "metadata": {
    "scrolled": true
   },
   "outputs": [
    {
     "name": "stdout",
     "output_type": "stream",
     "text": [
      "27 27\n",
      "268\n"
     ]
    }
   ],
   "source": [
    "data = np.array(data)\n",
    "valid_set_size = int(np.round(valid_set_size_percentage/100*data.shape[0]));  \n",
    "test_set_size = int(np.round(test_set_size_percentage/100*data.shape[0]))\n",
    "train_set_size = data.shape[0] - (valid_set_size + test_set_size)\n",
    "print (valid_set_size,test_set_size)\n",
    "print (data.shape[0])"
   ]
  },
  {
   "cell_type": "code",
   "execution_count": 72,
   "metadata": {},
   "outputs": [],
   "source": [
    "df_train = data[:train_set_size,:,:]\n",
    "df_valid = data[train_set_size:train_set_size+valid_set_size,:,:]\n",
    "df_test = data[train_set_size+valid_set_size:,:,:]"
   ]
  },
  {
   "cell_type": "code",
   "execution_count": 73,
   "metadata": {},
   "outputs": [],
   "source": [
    "x_train = df_train[:,:-1,:]\n",
    "y_train = df_train[:,-1,:]\n",
    "\n",
    "x_valid = df_valid[:,:-1,:]\n",
    "y_valid = df_valid[:,-1,:]\n",
    "\n",
    "x_test = df_test[:,:-1,:]\n",
    "y_test = df_test[:,-1,:]"
   ]
  },
  {
   "cell_type": "code",
   "execution_count": 74,
   "metadata": {},
   "outputs": [],
   "source": [
    "min_max_scaler = sklearn.preprocessing.MinMaxScaler()"
   ]
  },
  {
   "cell_type": "code",
   "execution_count": 75,
   "metadata": {
    "scrolled": false
   },
   "outputs": [
    {
     "ename": "ValueError",
     "evalue": "could not broadcast input array from shape (80,1) into shape (20,4)",
     "output_type": "error",
     "traceback": [
      "\u001b[1;31m---------------------------------------------------------------------------\u001b[0m",
      "\u001b[1;31mValueError\u001b[0m                                Traceback (most recent call last)",
      "\u001b[1;32m<ipython-input-75-18802af2352a>\u001b[0m in \u001b[0;36m<module>\u001b[1;34m()\u001b[0m\n\u001b[1;32m----> 1\u001b[1;33m \u001b[0mdf_train\u001b[0m\u001b[1;33m[\u001b[0m\u001b[1;36m0\u001b[0m\u001b[1;33m]\u001b[0m \u001b[1;33m=\u001b[0m \u001b[0mmin_max_scaler\u001b[0m\u001b[1;33m.\u001b[0m\u001b[0mfit_transform\u001b[0m\u001b[1;33m(\u001b[0m\u001b[0mdf_train\u001b[0m\u001b[1;33m[\u001b[0m\u001b[1;36m0\u001b[0m\u001b[1;33m]\u001b[0m\u001b[1;33m.\u001b[0m\u001b[0mreshape\u001b[0m\u001b[1;33m(\u001b[0m\u001b[1;33m-\u001b[0m\u001b[1;36m1\u001b[0m\u001b[1;33m,\u001b[0m\u001b[1;36m1\u001b[0m\u001b[1;33m)\u001b[0m\u001b[1;33m)\u001b[0m\u001b[1;33m\u001b[0m\u001b[0m\n\u001b[0m",
      "\u001b[1;31mValueError\u001b[0m: could not broadcast input array from shape (80,1) into shape (20,4)"
     ]
    }
   ],
   "source": [
    "df_train[0] = min_max_scaler.fit_transform(df_train[0].reshape(-1,1))"
   ]
  },
  {
   "cell_type": "code",
   "execution_count": null,
   "metadata": {},
   "outputs": [],
   "source": [
    "min_max_scaler = sklearn.preprocessing.MinMaxScaler()\n",
    "    df['Open'] = min_max_scaler.fit_transform(df.Open.values.reshape(-1,1))\n",
    "    df['Close'] = min_max_scaler.fit_transform(df['Close'].values.reshape(-1,1))\n",
    "    df['High'] = min_max_scaler.fit_transform(df.High.values.reshape(-1,1))\n",
    "    df['Low'] = min_max_scaler.fit_transform(df['Low'].values.reshape(-1,1))"
   ]
  }
 ],
 "metadata": {
  "kernelspec": {
   "display_name": "Python 3",
   "language": "python",
   "name": "python3"
  },
  "language_info": {
   "codemirror_mode": {
    "name": "ipython",
    "version": 3
   },
   "file_extension": ".py",
   "mimetype": "text/x-python",
   "name": "python",
   "nbconvert_exporter": "python",
   "pygments_lexer": "ipython3",
   "version": "3.6.5"
  }
 },
 "nbformat": 4,
 "nbformat_minor": 2
}
