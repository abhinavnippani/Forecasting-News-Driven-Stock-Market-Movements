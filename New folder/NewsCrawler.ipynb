{
 "cells": [
  {
   "cell_type": "code",
   "execution_count": null,
   "metadata": {},
   "outputs": [],
   "source": [
    "import requests\n",
    "from bs4 import BeautifulSoup\n",
    "import pandas as pd\n",
    "import arrow\n",
    "import urllib.request as urb\n",
    "import datetime"
   ]
  },
  {
   "cell_type": "code",
   "execution_count": 13,
   "metadata": {},
   "outputs": [],
   "source": [
    "from bs4 import BeautifulSoup\n",
    "from urllib.request import urlopen\n",
    "import pandas as pd\n",
    "import numpy as np\n",
    "from scipy import stats\n",
    "import requests\n",
    "\n",
    "import os\n",
    "import warnings\n",
    "warnings.filterwarnings('ignore')"
   ]
  },
  {
   "cell_type": "code",
   "execution_count": 14,
   "metadata": {},
   "outputs": [],
   "source": [
    "headlines = []\n",
    "alt_headlines = []\n",
    "content = []\n",
    "date = []\n",
    "links = []"
   ]
  },
  {
   "cell_type": "code",
   "execution_count": 15,
   "metadata": {},
   "outputs": [],
   "source": [
    "daystr = '01'\n",
    "monthstr = '01'\n",
    "yearstr = '2019'"
   ]
  },
  {
   "cell_type": "code",
   "execution_count": null,
   "metadata": {},
   "outputs": [],
   "source": [
    "for year in range (2019,2020):\n",
    "    \n",
    "    for month in range (1,2):\n",
    "        \n",
    "        print(\"*****************************  \"+ str(month) + \"  ****************************\")\n",
    "        \n",
    "        for day in range (1,31):\n",
    "            \n",
    "            print(\"****************    Day : \" + str(day) + \"     ******************\")\n",
    "\n",
    "            if (month < 10):\n",
    "                monthstr = '0' + str(month)\n",
    "            \n",
    "            if (day < 10):\n",
    "                daystr = '0' + str(day)\n",
    "            \n",
    "            yearstr = str(year)\n",
    "            \n",
    "            try:\n",
    "                \n",
    "                r = requests.get('http://www.business-standard.com/todays-paper/?print_dd='+daystr+'&print_mm='+monthstr+'&print_yy='+yearstr)\n",
    "            \n",
    "            except:\n",
    "                \n",
    "                print(\"link invalid\")\n",
    "                pass\n",
    "            \n",
    "            #print ('link accessed')\n",
    "            \n",
    "            soup = BeautifulSoup(r.content,\"html.parser\")\n",
    "            \n",
    "            main_content = soup.findAll('ul', {\"class\" : 'aticle-txt'})\n",
    "            \n",
    "            for data1 in main_content:\n",
    "                \n",
    "                data = data1.find(\"li\")\n",
    "                data = data.find_all(\"a\")\n",
    "                \n",
    "                for rows in data :\n",
    "                    print(data)\n",
    "                \n",
    "                link = \"http://www.business-standard.com/\"+data.get(\"href\")\n",
    "                links.append(link)\n",
    "                print(link)\n",
    "                \n",
    "                \n",
    "                date.append(str(pd.to_datetime(str(year)+str(month)+str(day), format='%Y%m%d')).split()[0])\n",
    "                html = urb.urlopen(link)\n",
    "                soup1 = BeautifulSoup(html, \"html.parser\")\n",
    "                for item in soup1.select(\".headline\"):\n",
    "                    headlines.append(item.get_text())                 \n",
    "                for item in soup1.select(\".alternativeHeadline\"):\n",
    "                    alt_headlines.append(item.get_text())\n",
    "                df=[]\n",
    "                for item in soup1.select(\".p-content p\"):\n",
    "                    df.append(item.get_text())\n",
    "                content.append(df)\n",
    "\n",
    "                news_dataset = pd.DataFrame([date,headlines,alt_headlines,content,links]).T\n",
    "                news_dataset.columns = [\"Date\",\"Headline\",\"Alternate Headline\",\"Content\",\"Link\"]\n",
    "\n",
    "                pd.DataFrame.to_csv(news_dataset,\"news_dataset.csv\")\n",
    "                \n",
    "\n",
    "            \n",
    "            \n",
    "            "
   ]
  },
  {
   "cell_type": "code",
   "execution_count": null,
   "metadata": {},
   "outputs": [],
   "source": [
    "news_dataset = pd.DataFrame([date,headlines,alt_headlines,content,links]).T\n",
    "news_dataset.columns = [\"Date\",\"Headline\",\"Alternate Headline\",\"Content\",\"Link\"]"
   ]
  },
  {
   "cell_type": "code",
   "execution_count": null,
   "metadata": {},
   "outputs": [],
   "source": [
    "pd.DataFrame.to_csv(news_dataset,\"news_dataset.csv\")"
   ]
  },
  {
   "cell_type": "code",
   "execution_count": null,
   "metadata": {},
   "outputs": [],
   "source": []
  },
  {
   "cell_type": "code",
   "execution_count": null,
   "metadata": {},
   "outputs": [],
   "source": []
  },
  {
   "cell_type": "code",
   "execution_count": null,
   "metadata": {},
   "outputs": [],
   "source": []
  }
 ],
 "metadata": {
  "kernelspec": {
   "display_name": "Python 3",
   "language": "python",
   "name": "python3"
  },
  "language_info": {
   "codemirror_mode": {
    "name": "ipython",
    "version": 3
   },
   "file_extension": ".py",
   "mimetype": "text/x-python",
   "name": "python",
   "nbconvert_exporter": "python",
   "pygments_lexer": "ipython3",
   "version": "3.6.5"
  }
 },
 "nbformat": 4,
 "nbformat_minor": 2
}
